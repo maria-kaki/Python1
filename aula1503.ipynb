{
 "cells": [
  {
   "cell_type": "code",
   "execution_count": 29,
   "metadata": {},
   "outputs": [
    {
     "name": "stdout",
     "output_type": "stream",
     "text": [
      "Requirement already satisfied: sympy in c:\\python311\\lib\\site-packages (1.12)\n",
      "Requirement already satisfied: mpmath>=0.19 in c:\\python311\\lib\\site-packages (from sympy) (1.3.0)\n",
      "Note: you may need to restart the kernel to use updated packages.\n"
     ]
    },
    {
     "name": "stderr",
     "output_type": "stream",
     "text": [
      "\n",
      "[notice] A new release of pip is available: 23.1.2 -> 24.0\n",
      "[notice] To update, run: python.exe -m pip install --upgrade pip\n"
     ]
    }
   ],
   "source": [
    "pip install sympy "
   ]
  },
  {
   "cell_type": "code",
   "execution_count": 2,
   "metadata": {},
   "outputs": [],
   "source": [
    "from sympy import *"
   ]
  },
  {
   "cell_type": "code",
   "execution_count": 30,
   "metadata": {},
   "outputs": [],
   "source": [
    "x= symbols(\"x\")"
   ]
  },
  {
   "cell_type": "code",
   "execution_count": 4,
   "metadata": {},
   "outputs": [
    {
     "data": {
      "text/latex": [
       "$\\displaystyle x^{2} + 10 x + 10$"
      ],
      "text/plain": [
       "x**2 + 10*x + 10"
      ]
     },
     "execution_count": 4,
     "metadata": {},
     "output_type": "execute_result"
    }
   ],
   "source": [
    "x**2+10*x+10"
   ]
  },
  {
   "cell_type": "code",
   "execution_count": 5,
   "metadata": {},
   "outputs": [
    {
     "data": {
      "text/latex": [
       "$\\displaystyle \\frac{d}{d x} x^{2}$"
      ],
      "text/plain": [
       "Derivative(x**2, x)"
      ]
     },
     "execution_count": 5,
     "metadata": {},
     "output_type": "execute_result"
    }
   ],
   "source": [
    "Derivative(x**2)"
   ]
  },
  {
   "cell_type": "code",
   "execution_count": 6,
   "metadata": {},
   "outputs": [
    {
     "data": {
      "text/latex": [
       "$\\displaystyle \\int x^{2}\\, dx$"
      ],
      "text/plain": [
       "Integral(x**2, x)"
      ]
     },
     "execution_count": 6,
     "metadata": {},
     "output_type": "execute_result"
    }
   ],
   "source": [
    "Integral(x**2)"
   ]
  },
  {
   "cell_type": "code",
   "execution_count": 31,
   "metadata": {},
   "outputs": [
    {
     "data": {
      "text/latex": [
       "$\\displaystyle \\frac{x^{3}}{3}$"
      ],
      "text/plain": [
       "x**3/3"
      ]
     },
     "execution_count": 31,
     "metadata": {},
     "output_type": "execute_result"
    }
   ],
   "source": [
    "Integral(x**2).doit()"
   ]
  },
  {
   "cell_type": "code",
   "execution_count": 8,
   "metadata": {},
   "outputs": [
    {
     "data": {
      "text/latex": [
       "$\\displaystyle 2 x$"
      ],
      "text/plain": [
       "2*x"
      ]
     },
     "execution_count": 8,
     "metadata": {},
     "output_type": "execute_result"
    }
   ],
   "source": [
    "Derivative(x**2).doit()"
   ]
  },
  {
   "cell_type": "code",
   "execution_count": 9,
   "metadata": {},
   "outputs": [],
   "source": [
    "from sympy.plotting import *"
   ]
  },
  {
   "cell_type": "code",
   "execution_count": 27,
   "metadata": {},
   "outputs": [
    {
     "name": "stdout",
     "output_type": "stream",
     "text": [
      "     50 |                                                       \n",
      "        |                                                       \n",
      "        |                                                       \n",
      "        |                                                       \n",
      "        |                                                       \n",
      "        |                                                       \n",
      "        |                                                       \n",
      "        |                                                       \n",
      "        |                                                       \n",
      "        |                                                       \n",
      "     25 |.......................................................\n",
      "        |                                                       \n",
      "        |                                                       \n",
      "        |                                                       \n",
      "        |                                                       \n",
      "        |                                                       \n",
      "        |                                                       \n",
      "        |                                                       \n",
      "        |                                                       \n",
      "        |                                                       \n",
      "      0 |_______________________________________________________\n",
      "         -10                        0                          10\n"
     ]
    },
    {
     "data": {
      "text/plain": [
       "<sympy.plotting.plot.Plot at 0x16430a59150>"
      ]
     },
     "execution_count": 27,
     "metadata": {},
     "output_type": "execute_result"
    }
   ],
   "source": [
    "plot(x**2)"
   ]
  },
  {
   "cell_type": "code",
   "execution_count": 17,
   "metadata": {},
   "outputs": [
    {
     "data": {
      "text/plain": [
       "'n Python'"
      ]
     },
     "execution_count": 17,
     "metadata": {},
     "output_type": "execute_result"
    }
   ],
   "source": [
    "s=\"Let's learn Python\"\n",
    "s[10:]"
   ]
  },
  {
   "cell_type": "code",
   "execution_count": 18,
   "metadata": {},
   "outputs": [
    {
     "data": {
      "text/plain": [
       "'on'"
      ]
     },
     "execution_count": 18,
     "metadata": {},
     "output_type": "execute_result"
    }
   ],
   "source": [
    "s=\"Let's learn Python\"\n",
    "s[-2:]"
   ]
  },
  {
   "cell_type": "code",
   "execution_count": 19,
   "metadata": {},
   "outputs": [
    {
     "data": {
      "text/plain": [
       "\"Let's learn Pyth\""
      ]
     },
     "execution_count": 19,
     "metadata": {},
     "output_type": "execute_result"
    }
   ],
   "source": [
    "s=\"Let's learn Python\"\n",
    "s[:-2]"
   ]
  },
  {
   "cell_type": "code",
   "execution_count": 20,
   "metadata": {},
   "outputs": [
    {
     "name": "stdout",
     "output_type": "stream",
     "text": [
      "João tem 5 anos\n"
     ]
    }
   ],
   "source": [
    "x = int(input(\"Insira quantos anos João tem: \"))\n",
    "\n",
    "print(\"João tem %d anos\"%x)"
   ]
  },
  {
   "cell_type": "code",
   "execution_count": 25,
   "metadata": {},
   "outputs": [
    {
     "name": "stdout",
     "output_type": "stream",
     "text": [
      "Meu nome é maria, tenho 5 anos e moro na cidade de sp.\n",
      "Meu nome é maria, tenho 5 anos e moro na cidade de sp.\n"
     ]
    }
   ],
   "source": [
    "nome = str(input(\"Insira seu nome: \"))\n",
    "idade = int(input(\"Insira sua idade: \"))\n",
    "cidade = str(input(\"Insira sua cidade: \"))\n",
    "\n",
    "print(f\"Meu nome é {nome}, tenho {idade} anos e moro na cidade de {cidade}.\")\n",
    "print(\"Meu nome é %s, tenho %d anos e moro na cidade de %s.\"%(nome,idade,cidade))"
   ]
  },
  {
   "attachments": {},
   "cell_type": "markdown",
   "metadata": {},
   "source": [
    "%d -> int\n",
    "%s -> str"
   ]
  },
  {
   "cell_type": "code",
   "execution_count": 32,
   "metadata": {},
   "outputs": [
    {
     "name": "stdout",
     "output_type": "stream",
     "text": [
      "Hello World\n"
     ]
    }
   ],
   "source": [
    "st1 = \"Hello\"\n",
    "st2 = \"World\"\n",
    "conca_st = st1 + \" \" + st2\n",
    "print(conca_st)"
   ]
  },
  {
   "cell_type": "code",
   "execution_count": 33,
   "metadata": {},
   "outputs": [
    {
     "name": "stdout",
     "output_type": "stream",
     "text": [
      "BONONO\n"
     ]
    }
   ],
   "source": [
    "st = \"banana\"\n",
    "neww = st.replace(\"a\" , \"o\")\n",
    "new = neww.upper()\n",
    "print(new)"
   ]
  },
  {
   "cell_type": "code",
   "execution_count": 49,
   "metadata": {},
   "outputs": [
    {
     "name": "stdout",
     "output_type": "stream",
     "text": [
      "Maria Clara Oliveira\n"
     ]
    }
   ],
   "source": [
    "nome = str(input(\"Insira seu nome: \"))\n",
    "nome2 = str(input(\"Insira seu segundo nome: \"))\n",
    "nome3 = str(input(\"Insira seu terceiro nome: \"))\n",
    "\n",
    "nomecompleto = nome.capitalize() + \" \" + nome2.capitalize() + \" \" + nome3.capitalize()\n",
    "\n",
    "print(nomecompleto)\n"
   ]
  },
  {
   "cell_type": "code",
   "execution_count": 57,
   "metadata": {},
   "outputs": [
    {
     "name": "stdout",
     "output_type": "stream",
     "text": [
      "Insira um cpf válido!\n"
     ]
    }
   ],
   "source": [
    "nome = str(input(\"Insira seu nome: \"))\n",
    "nome2 = str(input(\"Insira seu segundo nome: \"))\n",
    "nome3 = str(input(\"Insira seu terceiro nome: \"))\n",
    "\n",
    "nomecompleto = nome.capitalize() + \" \" + nome2.capitalize() + \" \" + nome3.capitalize()\n",
    "\n",
    "cpf = str(input(\"Insira seu CPF: \"))\n",
    "\n",
    "if len(cpf) == 11:\n",
    "    cidade = str(input(\"Insira sua cidade: \"))\n",
    "    \n",
    "    print(f\"Seu nome completo é {nomecompleto}.\\nSeu CPF é {cpf}.\\nSua cidade é {cidade}.\")\n",
    "else:\n",
    "    print(\"Insira um cpf válido!\")"
   ]
  }
 ],
 "metadata": {
  "kernelspec": {
   "display_name": "Python 3",
   "language": "python",
   "name": "python3"
  },
  "language_info": {
   "codemirror_mode": {
    "name": "ipython",
    "version": 3
   },
   "file_extension": ".py",
   "mimetype": "text/x-python",
   "name": "python",
   "nbconvert_exporter": "python",
   "pygments_lexer": "ipython3",
   "version": "3.11.4"
  },
  "orig_nbformat": 4
 },
 "nbformat": 4,
 "nbformat_minor": 2
}
