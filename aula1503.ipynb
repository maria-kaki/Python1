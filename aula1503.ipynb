{
 "cells": [
  {
   "cell_type": "code",
   "execution_count": 1,
   "metadata": {},
   "outputs": [
    {
     "name": "stdout",
     "output_type": "stream",
     "text": [
      "Note: you may need to restart the kernel to use updated packages.Collecting sympy\n",
      "  Downloading sympy-1.12-py3-none-any.whl (5.7 MB)\n",
      "                                              0.0/5.7 MB ? eta -:--:--\n",
      "     --------                                 1.2/5.7 MB 39.6 MB/s eta 0:00:01\n",
      "     --------                                 1.2/5.7 MB 39.6 MB/s eta 0:00:01\n",
      "     --------                                 1.2/5.7 MB 39.6 MB/s eta 0:00:01\n",
      "     --------                                 1.2/5.7 MB 39.6 MB/s eta 0:00:01\n",
      "     --------                                 1.2/5.7 MB 39.6 MB/s eta 0:00:01\n",
      "     --------                                 1.2/5.7 MB 39.6 MB/s eta 0:00:01\n",
      "     --------                                 1.2/5.7 MB 39.6 MB/s eta 0:00:01\n",
      "     --------                                 1.2/5.7 MB 39.6 MB/s eta 0:00:01\n",
      "     --------                                 1.2/5.7 MB 39.6 MB/s eta 0:00:01\n",
      "     --------                                 1.2/5.7 MB 39.6 MB/s eta 0:00:01\n",
      "     --------                                 1.2/5.7 MB 39.6 MB/s eta 0:00:01\n",
      "     --------                                 1.2/5.7 MB 39.6 MB/s eta 0:00:01\n",
      "     --------                                 1.2/5.7 MB 39.6 MB/s eta 0:00:01\n",
      "     --------                                 1.2/5.7 MB 39.6 MB/s eta 0:00:01\n",
      "     ---------------                          2.3/5.7 MB 3.3 MB/s eta 0:00:02\n",
      "     ----------------------                   3.2/5.7 MB 4.3 MB/s eta 0:00:01\n",
      "     ----------------------                   3.2/5.7 MB 4.3 MB/s eta 0:00:01\n",
      "     ----------------------                   3.2/5.7 MB 4.3 MB/s eta 0:00:01\n",
      "     ----------------------                   3.2/5.7 MB 4.3 MB/s eta 0:00:01\n",
      "     ----------------------                   3.2/5.7 MB 4.3 MB/s eta 0:00:01\n",
      "     ----------------------                   3.2/5.7 MB 4.3 MB/s eta 0:00:01\n",
      "     ----------------------                   3.2/5.7 MB 4.3 MB/s eta 0:00:01\n",
      "     ----------------------                   3.2/5.7 MB 4.3 MB/s eta 0:00:01\n",
      "     ----------------------                   3.2/5.7 MB 4.3 MB/s eta 0:00:01\n",
      "     ----------------------                   3.2/5.7 MB 4.3 MB/s eta 0:00:01\n",
      "     ----------------------                   3.2/5.7 MB 4.3 MB/s eta 0:00:01\n",
      "     ----------------------                   3.2/5.7 MB 4.3 MB/s eta 0:00:01\n",
      "     ----------------------                   3.2/5.7 MB 4.3 MB/s eta 0:00:01\n",
      "     ----------------------                   3.2/5.7 MB 4.3 MB/s eta 0:00:01\n",
      "     ----------------------                   3.2/5.7 MB 4.3 MB/s eta 0:00:01\n",
      "     ----------------------                   3.2/5.7 MB 4.3 MB/s eta 0:00:01\n",
      "     ----------------------                   3.2/5.7 MB 4.3 MB/s eta 0:00:01\n",
      "     ----------------------                   3.2/5.7 MB 4.3 MB/s eta 0:00:01\n",
      "     ----------------------                   3.2/5.7 MB 4.3 MB/s eta 0:00:01\n",
      "     ----------------------                   3.2/5.7 MB 4.3 MB/s eta 0:00:01\n",
      "     ----------------------                   3.2/5.7 MB 4.3 MB/s eta 0:00:01\n",
      "     ----------------------                   3.2/5.7 MB 4.3 MB/s eta 0:00:01\n",
      "     ----------------------                   3.2/5.7 MB 4.3 MB/s eta 0:00:01\n",
      "     --------------------------               3.8/5.7 MB 2.1 MB/s eta 0:00:01\n",
      "     ---------------------------              3.9/5.7 MB 2.1 MB/s eta 0:00:01\n",
      "     ---------------------------              4.0/5.7 MB 2.1 MB/s eta 0:00:01\n",
      "     ---------------------------              4.0/5.7 MB 2.0 MB/s eta 0:00:01\n",
      "     ---------------------------              4.0/5.7 MB 2.0 MB/s eta 0:00:01\n",
      "     ----------------------------             4.2/5.7 MB 2.0 MB/s eta 0:00:01\n",
      "     --------------------------------------   5.5/5.7 MB 2.6 MB/s eta 0:00:01\n",
      "     --------------------------------------   5.5/5.7 MB 2.6 MB/s eta 0:00:01\n",
      "     --------------------------------------   5.5/5.7 MB 2.6 MB/s eta 0:00:01\n",
      "     --------------------------------------   5.5/5.7 MB 2.6 MB/s eta 0:00:01\n",
      "     --------------------------------------   5.5/5.7 MB 2.6 MB/s eta 0:00:01\n",
      "     --------------------------------------   5.5/5.7 MB 2.6 MB/s eta 0:00:01\n",
      "     --------------------------------------   5.5/5.7 MB 2.6 MB/s eta 0:00:01\n",
      "     --------------------------------------   5.5/5.7 MB 2.6 MB/s eta 0:00:01\n",
      "     ---------------------------------------  5.7/5.7 MB 2.3 MB/s eta 0:00:01\n",
      "     ---------------------------------------- 5.7/5.7 MB 2.3 MB/s eta 0:00:00\n",
      "Collecting mpmath>=0.19 (from sympy)\n",
      "  Downloading mpmath-1.3.0-py3-none-any.whl (536 kB)\n",
      "                                              0.0/536.2 kB ? eta -:--:--\n",
      "     ------------------------------------- 536.2/536.2 kB 32.9 MB/s eta 0:00:00\n",
      "Installing collected packages: mpmath, sympy\n",
      "Successfully installed mpmath-1.3.0 sympy-1.12\n",
      "\n"
     ]
    },
    {
     "name": "stderr",
     "output_type": "stream",
     "text": [
      "\n",
      "[notice] A new release of pip is available: 23.1.2 -> 24.0\n",
      "[notice] To update, run: python.exe -m pip install --upgrade pip\n"
     ]
    }
   ],
   "source": [
    "pip install sympy "
   ]
  },
  {
   "cell_type": "code",
   "execution_count": 2,
   "metadata": {},
   "outputs": [],
   "source": [
    "from sympy import *"
   ]
  },
  {
   "cell_type": "code",
   "execution_count": 3,
   "metadata": {},
   "outputs": [],
   "source": [
    "x= symbols(\"x\")"
   ]
  },
  {
   "cell_type": "code",
   "execution_count": 4,
   "metadata": {},
   "outputs": [
    {
     "data": {
      "text/latex": [
       "$\\displaystyle x^{2} + 10 x + 10$"
      ],
      "text/plain": [
       "x**2 + 10*x + 10"
      ]
     },
     "execution_count": 4,
     "metadata": {},
     "output_type": "execute_result"
    }
   ],
   "source": [
    "x**2+10*x+10"
   ]
  },
  {
   "cell_type": "code",
   "execution_count": 5,
   "metadata": {},
   "outputs": [
    {
     "data": {
      "text/latex": [
       "$\\displaystyle \\frac{d}{d x} x^{2}$"
      ],
      "text/plain": [
       "Derivative(x**2, x)"
      ]
     },
     "execution_count": 5,
     "metadata": {},
     "output_type": "execute_result"
    }
   ],
   "source": [
    "Derivative(x**2)"
   ]
  },
  {
   "cell_type": "code",
   "execution_count": 6,
   "metadata": {},
   "outputs": [
    {
     "data": {
      "text/latex": [
       "$\\displaystyle \\int x^{2}\\, dx$"
      ],
      "text/plain": [
       "Integral(x**2, x)"
      ]
     },
     "execution_count": 6,
     "metadata": {},
     "output_type": "execute_result"
    }
   ],
   "source": [
    "Integral(x**2)"
   ]
  },
  {
   "cell_type": "code",
   "execution_count": 7,
   "metadata": {},
   "outputs": [
    {
     "data": {
      "text/latex": [
       "$\\displaystyle \\frac{x^{3}}{3}$"
      ],
      "text/plain": [
       "x**3/3"
      ]
     },
     "execution_count": 7,
     "metadata": {},
     "output_type": "execute_result"
    }
   ],
   "source": [
    "Integral(x**2).doit()"
   ]
  },
  {
   "cell_type": "code",
   "execution_count": 8,
   "metadata": {},
   "outputs": [
    {
     "data": {
      "text/latex": [
       "$\\displaystyle 2 x$"
      ],
      "text/plain": [
       "2*x"
      ]
     },
     "execution_count": 8,
     "metadata": {},
     "output_type": "execute_result"
    }
   ],
   "source": [
    "Derivative(x**2).doit()"
   ]
  },
  {
   "cell_type": "code",
   "execution_count": 9,
   "metadata": {},
   "outputs": [],
   "source": [
    "from sympy.plotting import *"
   ]
  },
  {
   "cell_type": "code",
   "execution_count": 11,
   "metadata": {},
   "outputs": [
    {
     "name": "stdout",
     "output_type": "stream",
     "text": [
      "    100 |\\                                                     /\n",
      "        | .                                                   . \n",
      "        |                                                       \n",
      "        |  .                                                 .  \n",
      "        |   \\                                               /   \n",
      "        |    .                                             .    \n",
      "        |                                                       \n",
      "        |     .                                           .     \n",
      "        |      \\                                         /      \n",
      "        |       \\                                       /       \n",
      "     50 |--------\\-------------------------------------/--------\n",
      "        |         \\                                   /         \n",
      "        |          \\                                 /          \n",
      "        |           \\                               /           \n",
      "        |            \\                             /            \n",
      "        |             ..                         ..             \n",
      "        |               \\                       /               \n",
      "        |                ..                   ..                \n",
      "        |                  ..               ..                  \n",
      "        |                    ...         ...                    \n",
      "      0 |_______________________________________________________\n",
      "         -10                        0                          10\n"
     ]
    },
    {
     "data": {
      "text/plain": [
       "<sympy.plotting.plot.Plot at 0x16430df8310>"
      ]
     },
     "execution_count": 11,
     "metadata": {},
     "output_type": "execute_result"
    }
   ],
   "source": [
    "plot(x**2)"
   ]
  }
 ],
 "metadata": {
  "kernelspec": {
   "display_name": "Python 3",
   "language": "python",
   "name": "python3"
  },
  "language_info": {
   "codemirror_mode": {
    "name": "ipython",
    "version": 3
   },
   "file_extension": ".py",
   "mimetype": "text/x-python",
   "name": "python",
   "nbconvert_exporter": "python",
   "pygments_lexer": "ipython3",
   "version": "3.11.4"
  },
  "orig_nbformat": 4
 },
 "nbformat": 4,
 "nbformat_minor": 2
}
