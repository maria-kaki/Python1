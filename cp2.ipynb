{
 "cells": [
  {
   "attachments": {},
   "cell_type": "markdown",
   "metadata": {},
   "source": [
    "# Exercício 1\n",
    "Crie um programa que retorne uma lista de valores de massa, dado que a velocidade da luz é c = 300000 km/s e a lista de força 500, 1000, 1500, 2000, 2500, 3000 kN respectivamente. Utilize uma estrutura de repetição com for e append."
   ]
  },
  {
   "cell_type": "code",
   "execution_count": 2,
   "metadata": {},
   "outputs": [
    {
     "name": "stdout",
     "output_type": "stream",
     "text": [
      "[0.0016666666666666668, 0.0033333333333333335, 0.005, 0.006666666666666667, 0.008333333333333333]\n"
     ]
    }
   ],
   "source": [
    "massas = []\n",
    "velocidade = [300000]\n",
    "forca = [500,1000,1500,2000,2500]\n",
    "\n",
    "for i in range(len(forca)):\n",
    "    massa = forca[i]/velocidade[0]\n",
    "    massas.append(massa)\n",
    "\n",
    "print(massas)\n"
   ]
  },
  {
   "attachments": {},
   "cell_type": "markdown",
   "metadata": {},
   "source": [
    "# Exercício 2\n",
    "Crie um programa para solicitar quatro nomes e cpfs. Utilize listas, contador, append e retorne duas listas chamadas nomes e cpfs contendo as respectivas informações. Utilize estrutura de repetição while."
   ]
  },
  {
   "cell_type": "code",
   "execution_count": 3,
   "metadata": {},
   "outputs": [
    {
     "name": "stdout",
     "output_type": "stream",
     "text": [
      "Nome: maria, CPF: 123\n",
      "Nome: lorran, CPF: 1234\n",
      "Nome: gabriel c, CPF: 345\n",
      "Nome: gabriel m, CPF: 345\n"
     ]
    }
   ],
   "source": [
    "nomes = []\n",
    "cpfs = []\n",
    "i=0\n",
    "\n",
    "while i<4:\n",
    "    nome = input(\"Escreva um nome.\")\n",
    "    cpf = input(\"Escreva um CPF.\")\n",
    "\n",
    "    nomes.append(nome)\n",
    "    cpfs.append(cpf)\n",
    "\n",
    "    i+=1\n",
    "\n",
    "for k in range(len(nomes)):\n",
    "    print(f\"Nome: {nomes[k]}, CPF: {cpfs[k]}\")\n"
   ]
  },
  {
   "attachments": {},
   "cell_type": "markdown",
   "metadata": {},
   "source": [
    "# Exercício 3\n",
    "Cálculo de Salário Líquido - Em uma empresa, os funcionários têm seus salários calculados de acordo com as seguintes regras:\n",
    "  \n",
    "- Se o salário for até R$ 2.000,00, será aplicado um desconto de $10%$;\n",
    "- Se o salário for superior a R$ 2.000,00 e até R$ 4.000,00, será aplicado um desconto de $20%$;\n",
    "- Se o salário for superior a R$ 4.000,00, será aplicado um desconto de $30%$.\n",
    "  \n",
    "Escreva um programa em Python para retornar os respectivos descontos no salário dos funcionários de acordo com as regras descritas anteriormente. Retorne os salários líquidos de cada um, considerando os descontos aplicados. Armazene os salários líquidos em três listas diferentes, salario_10, salario_20 e salario_30, para cada respectiva faixa de desconto. Considere a lista salarios = [1800, 2500, 3200, 4200, 5000]."
   ]
  },
  {
   "cell_type": "code",
   "execution_count": 5,
   "metadata": {},
   "outputs": [
    {
     "name": "stdout",
     "output_type": "stream",
     "text": [
      "Salários com 10% de desconto: [1620.0]\n",
      "Salários com 20% de desconto: [2000.0, 2560.0]\n",
      "Salários com 30% de desconto: [2940.0, 3500.0]\n"
     ]
    }
   ],
   "source": [
    "salarios = [1800, 2500, 3200, 4200, 5000]\n",
    "salario_10 = []\n",
    "salario_20 = []\n",
    "salario_30 = []\n",
    "\n",
    "for i in range(len(salarios)):\n",
    "    if salarios[i] <= 2000:\n",
    "        salario_liquido = salarios[i] * 0.9\n",
    "        salario_10.append(salario_liquido)\n",
    "        i+=1\n",
    "    elif salarios[i] <=4000:\n",
    "        salario_liquido = salarios[i] * 0.8\n",
    "        salario_20.append(salario_liquido)\n",
    "        i+=1\n",
    "    else:\n",
    "        salario_liquido = salarios[i] * 0.7\n",
    "        salario_30.append(salario_liquido)\n",
    "        i+=1\n",
    "\n",
    "print(f\"Salários com 10% de desconto: {salario_10}\")\n",
    "print(f\"Salários com 20% de desconto: {salario_20}\")\n",
    "print(f\"Salários com 30% de desconto: {salario_30}\")"
   ]
  },
  {
   "attachments": {},
   "cell_type": "markdown",
   "metadata": {},
   "source": [
    "# Exercício 4\n",
    "Programa de Compras em uma Loja de Jogos - Neste programa, você será solicitado a inserir os valores de 5 produtos diferentes para dois usuários em uma loja de jogos. O programa calculará e exibirá o valor total das compras de cada usuário, bem como o valor médio das compras de cada um."
   ]
  },
  {
   "cell_type": "code",
   "execution_count": 14,
   "metadata": {},
   "outputs": [
    {
     "name": "stdout",
     "output_type": "stream",
     "text": [
      "O valor da compra do usuário 1 foi de R$ 15.0 e a média foi R$ 3.0\n",
      "O valor da compra do usuário 1 foi de R$ 33.0 e a média foi R$ 6.6\n"
     ]
    }
   ],
   "source": [
    "compra1 = 0\n",
    "compra2 = 0\n",
    "\n",
    "for k in range(5):\n",
    "    valor1 = float(input(\"Insira o valor de um produto.\"))\n",
    "    compra1 +=valor1\n",
    "    k+=1\n",
    "\n",
    "media1 = compra1/5\n",
    "\n",
    "for i in range(5):\n",
    "    valor2 = float(input(\"Insira o valor de um produto.\"))\n",
    "    compra2 +=valor2\n",
    "    i+=1\n",
    "\n",
    "media2 = compra2/5\n",
    "\n",
    "print(f\"O valor da compra do usuário 1 foi de R$ {compra1} e a média foi R$ {media1}\")\n",
    "print(f\"O valor da compra do usuário 1 foi de R$ {compra2} e a média foi R$ {media2}\")"
   ]
  },
  {
   "attachments": {},
   "cell_type": "markdown",
   "metadata": {},
   "source": [
    "# Exercício 5\n",
    "Você está criando um programa para registrar as compras em uma loja de computadores. Primeiro, você solicitará ao usuário que insira 5 produtos adquiridos. Em seguida, usando uma estrutura de repetição com while, você criará uma lista e inserirá esses produtos nela.\n",
    "  \n",
    "lista_produtos = ['notebook', 'ssd', 'mouse', 'teclado', 'monitor']\n",
    "  \n",
    "Depois, você verificará se os produtos digitados estão dentro da lista de produtos da loja. Para isso, você usará uma estrutura de repetição for. Em seguida, você contará a quantidade de cada tipo de produto digitado pelo usuário. "
   ]
  },
  {
   "cell_type": "code",
   "execution_count": 13,
   "metadata": {},
   "outputs": [
    {
     "name": "stdout",
     "output_type": "stream",
     "text": [
      "Notebook: 0, SSD: 1, Mouse: 0, Teclado: 1, Monitor: 1\n"
     ]
    }
   ],
   "source": [
    "produtos = []\n",
    "lista_produtos = ['notebook', 'ssd', 'mouse', 'teclado', 'monitor']\n",
    "i=0\n",
    "\n",
    "while i < 5:\n",
    "    produto = input(\"Insira um produto adquirido.\").lower()\n",
    "    produtos.append(produto)\n",
    "    i+=1\n",
    "\n",
    "notebook = 0\n",
    "ssd=0\n",
    "mouse=0\n",
    "teclado=0\n",
    "monitor=0\n",
    "\n",
    "for k in range(len(produtos)):\n",
    "    if produtos[k] == lista_produtos[0]:\n",
    "        notebook+=1\n",
    "    elif produtos[k] == lista_produtos[1]:\n",
    "        ssd+=1\n",
    "    elif produtos[k] == lista_produtos[2]:\n",
    "        mouse+=1\n",
    "    elif produtos[k] == lista_produtos[3]:\n",
    "        teclado+=1\n",
    "    elif produtos[k] == lista_produtos[4]:\n",
    "        monitor+=1\n",
    "    \n",
    "    k+=1\n",
    "\n",
    "print(f\"Notebook: {notebook}, SSD: {ssd}, Mouse: {mouse}, Teclado: {teclado}, Monitor: {monitor}\")"
   ]
  }
 ],
 "metadata": {
  "kernelspec": {
   "display_name": "Python 3",
   "language": "python",
   "name": "python3"
  },
  "language_info": {
   "codemirror_mode": {
    "name": "ipython",
    "version": 3
   },
   "file_extension": ".py",
   "mimetype": "text/x-python",
   "name": "python",
   "nbconvert_exporter": "python",
   "pygments_lexer": "ipython3",
   "version": "3.11.4"
  },
  "orig_nbformat": 4
 },
 "nbformat": 4,
 "nbformat_minor": 2
}
