{
 "cells": [
  {
   "attachments": {},
   "cell_type": "markdown",
   "metadata": {},
   "source": [
    "# Atividade 1"
   ]
  },
  {
   "cell_type": "code",
   "execution_count": 4,
   "metadata": {},
   "outputs": [
    {
     "name": "stdout",
     "output_type": "stream",
     "text": [
      "Aluno reprovado!\n"
     ]
    }
   ],
   "source": [
    "artigo = str(input(\"Você tem artigo publicado? \"))\n",
    "\n",
    "if artigo == \"sim\" or artigo == \"SIM\":\n",
    "    print(\"Aluno aprovado!\")\n",
    "else:\n",
    "    nota1 = float(input(\"Insira sua nota 1: \"))\n",
    "    nota2 = float(input(\"Insira sua nota 2: \"))\n",
    "    nota3 = float(input(\"Insira sua nota 3: \"))\n",
    "    media = (nota1+nota2+nota3)/3\n",
    "    if(media>=7):\n",
    "        print(\"Aluno aprovado!\")\n",
    "    elif(media>=4):\n",
    "        print(\"Aluno fará exame!\")\n",
    "    else:\n",
    "        print(\"Aluno reprovado!\")"
   ]
  },
  {
   "attachments": {},
   "cell_type": "markdown",
   "metadata": {},
   "source": [
    "# Atividade 2"
   ]
  },
  {
   "cell_type": "code",
   "execution_count": 6,
   "metadata": {},
   "outputs": [
    {
     "name": "stdout",
     "output_type": "stream",
     "text": [
      "Você foi multado!\n",
      "O valor da multa é de 15 reais.\n"
     ]
    }
   ],
   "source": [
    "velocidade = int(input(\"Qual a velocidade do carro (km/h)? \"))\n",
    "\n",
    "if velocidade > 80:\n",
    "    multa = (velocidade - 80)*5\n",
    "    print(f\"Você foi multado!\\nO valor da multa é de {multa} reais.\")\n",
    "else:\n",
    "    print(\"Tudo certo!\")"
   ]
  },
  {
   "attachments": {},
   "cell_type": "markdown",
   "metadata": {},
   "source": [
    "# Atividade 3"
   ]
  },
  {
   "cell_type": "code",
   "execution_count": 7,
   "metadata": {},
   "outputs": [
    {
     "name": "stdout",
     "output_type": "stream",
     "text": [
      "Adulto!\n"
     ]
    }
   ],
   "source": [
    "idade = int(input(\"Qual a sua idade? \"))\n",
    "\n",
    "if idade<12:\n",
    "    print(\"Criança!\")\n",
    "elif idade<18:\n",
    "    print(\"Adolescente!\")\n",
    "elif idade<65:\n",
    "    print(\"Adulto!\")\n",
    "else:\n",
    "    print(\"Idoso!\")"
   ]
  }
 ],
 "metadata": {
  "kernelspec": {
   "display_name": "Python 3",
   "language": "python",
   "name": "python3"
  },
  "language_info": {
   "codemirror_mode": {
    "name": "ipython",
    "version": 3
   },
   "file_extension": ".py",
   "mimetype": "text/x-python",
   "name": "python",
   "nbconvert_exporter": "python",
   "pygments_lexer": "ipython3",
   "version": "3.11.4"
  },
  "orig_nbformat": 4
 },
 "nbformat": 4,
 "nbformat_minor": 2
}
