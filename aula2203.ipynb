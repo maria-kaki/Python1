{
 "cells": [
  {
   "attachments": {},
   "cell_type": "markdown",
   "metadata": {},
   "source": [
    "# Atividade 1"
   ]
  },
  {
   "cell_type": "code",
   "execution_count": 4,
   "metadata": {},
   "outputs": [
    {
     "name": "stdout",
     "output_type": "stream",
     "text": [
      "Aluno reprovado!\n"
     ]
    }
   ],
   "source": [
    "artigo = str(input(\"Você tem artigo publicado? \"))\n",
    "\n",
    "if artigo == \"sim\" or artigo == \"SIM\":\n",
    "    print(\"Aluno aprovado!\")\n",
    "else:\n",
    "    nota1 = float(input(\"Insira sua nota 1: \"))\n",
    "    nota2 = float(input(\"Insira sua nota 2: \"))\n",
    "    nota3 = float(input(\"Insira sua nota 3: \"))\n",
    "    media = (nota1+nota2+nota3)/3\n",
    "    if(media>=7):\n",
    "        print(\"Aluno aprovado!\")\n",
    "    elif(media>=4):\n",
    "        print(\"Aluno fará exame!\")\n",
    "    else:\n",
    "        print(\"Aluno reprovado!\")"
   ]
  },
  {
   "attachments": {},
   "cell_type": "markdown",
   "metadata": {},
   "source": [
    "# Atividade 2"
   ]
  },
  {
   "cell_type": "code",
   "execution_count": 6,
   "metadata": {},
   "outputs": [
    {
     "name": "stdout",
     "output_type": "stream",
     "text": [
      "Você foi multado!\n",
      "O valor da multa é de 15 reais.\n"
     ]
    }
   ],
   "source": [
    "velocidade = int(input(\"Qual a velocidade do carro (km/h)? \"))\n",
    "\n",
    "if velocidade > 80:\n",
    "    multa = (velocidade - 80)*5\n",
    "    print(f\"Você foi multado!\\nO valor da multa é de {multa} reais.\")\n",
    "else:\n",
    "    print(\"Tudo certo!\")"
   ]
  },
  {
   "attachments": {},
   "cell_type": "markdown",
   "metadata": {},
   "source": [
    "# Atividade 3"
   ]
  },
  {
   "cell_type": "code",
   "execution_count": 7,
   "metadata": {},
   "outputs": [
    {
     "name": "stdout",
     "output_type": "stream",
     "text": [
      "Adulto!\n"
     ]
    }
   ],
   "source": [
    "idade = int(input(\"Qual a sua idade? \"))\n",
    "\n",
    "if idade<12:\n",
    "    print(\"Criança!\")\n",
    "elif idade<18:\n",
    "    print(\"Adolescente!\")\n",
    "elif idade<65:\n",
    "    print(\"Adulto!\")\n",
    "else:\n",
    "    print(\"Idoso!\")"
   ]
  },
  {
   "attachments": {},
   "cell_type": "markdown",
   "metadata": {},
   "source": [
    "# Atividade 4"
   ]
  },
  {
   "cell_type": "code",
   "execution_count": 12,
   "metadata": {},
   "outputs": [
    {
     "name": "stdout",
     "output_type": "stream",
     "text": [
      "Impar!\n"
     ]
    }
   ],
   "source": [
    "numero = int(input(\"Insira um número: \"))\n",
    "\n",
    "if (numero%2):\n",
    "    print(\"Impar!\")\n",
    "else:\n",
    "    print(\"Par!\")\n"
   ]
  },
  {
   "attachments": {},
   "cell_type": "markdown",
   "metadata": {},
   "source": [
    "# Atividade 5"
   ]
  },
  {
   "cell_type": "code",
   "execution_count": 29,
   "metadata": {},
   "outputs": [
    {
     "name": "stdout",
     "output_type": "stream",
     "text": [
      "Os números 1 e 3 são iguais e são menores que o 2!\n"
     ]
    }
   ],
   "source": [
    "numero1 = int(input(\"Insira um número: \"))\n",
    "numero2 = int(input(\"Insira outro número: \"))\n",
    "numero3 = int(input(\"Insira outro número: \"))\n",
    "\n",
    "if(numero1 == numero2) and (numero2>numero3):\n",
    "    print(\"Os números 1 e 2 são iguais e são maiores que o 3!\")\n",
    "elif(numero1 == numero2) and (numero2<numero3):\n",
    "    print(\"Os números 1 e 2 são iguais e são menores que o 3!\")\n",
    "elif(numero2 == numero3) and (numero2>numero1):\n",
    "    print(\"Os números 2 e 3 são iguais e são maiores que o 1!\")\n",
    "elif(numero2 == numero3) and (numero2<numero1):\n",
    "    print(\"Os números 2 e 3 são iguais e são menores que o 1!\")\n",
    "elif(numero1 == numero3) and (numero1>numero2):\n",
    "    print(\"Os números 1 e 3 são iguais e são maiores que o 2!\")\n",
    "elif(numero1 == numero3) and (numero1<numero2):\n",
    "    print(\"Os números 1 e 3 são iguais e são menores que o 2!\")\n",
    "elif (numero1>numero2) and (numero1>numero3):\n",
    "    print(\"O número 1 é maior!\")\n",
    "elif(numero2>numero1) and (numero2>numero3):\n",
    "    print(\"O número 2 é maior!\")\n",
    "elif(numero3>numero1) and (numero3>numero2):\n",
    "    print(\"O número 3 é maior!\")\n",
    "else:\n",
    "    print(\"Os três números são iguais!\")\n",
    "    "
   ]
  },
  {
   "attachments": {},
   "cell_type": "markdown",
   "metadata": {},
   "source": [
    "# Atividade 6"
   ]
  },
  {
   "cell_type": "code",
   "execution_count": 17,
   "metadata": {},
   "outputs": [
    {
     "name": "stdout",
     "output_type": "stream",
     "text": [
      "Insira sua cor favorita:\n",
      "1.Azul\n",
      "2.Verde\n",
      "3.Amarelo\n",
      "4.Preto\n",
      "5.Branco\n",
      "Azul\n"
     ]
    }
   ],
   "source": [
    "print(\"Insira sua cor favorita:\\n1.Azul\\n2.Verde\\n3.Amarelo\\n4.Preto\\n5.Branco\")\n",
    "cor = int(input())\n",
    "\n",
    "if (cor == 1):\n",
    "    print (\"Azul\")\n",
    "elif(cor == 2):\n",
    "    print(\"Verde\")\n",
    "elif(cor == 3):\n",
    "    print(\"Amarelo\")\n",
    "elif(cor == 4):\n",
    "    print(\"Preto\")\n",
    "elif(cor == 5):\n",
    "    print(\"Branco\")\n",
    "    "
   ]
  },
  {
   "attachments": {},
   "cell_type": "markdown",
   "metadata": {},
   "source": [
    "# Atividade 7"
   ]
  },
  {
   "cell_type": "code",
   "execution_count": 24,
   "metadata": {},
   "outputs": [
    {
     "name": "stdout",
     "output_type": "stream",
     "text": [
      "O imposto a ser pago é de R$3000.0\n"
     ]
    }
   ],
   "source": [
    "salario = float(input(\"Insira seu salário: \"))\n",
    "\n",
    "if(salario<2000):\n",
    "    imposto = salario*0.1\n",
    "    print(f\"O imposto a ser pago é de R${imposto}\")\n",
    "elif(salario<5000):\n",
    "    imposto = salario*0.2\n",
    "    print(f\"O imposto a ser pago é de R${imposto}\")\n",
    "if(salario<10000):\n",
    "    imposto = salario*0.24\n",
    "    print(f\"O imposto a ser pago é de R${imposto}\")\n",
    "else:\n",
    "    imposto = salario*0.3\n",
    "    print(f\"O imposto a ser pago é de R${imposto}\")"
   ]
  },
  {
   "attachments": {},
   "cell_type": "markdown",
   "metadata": {},
   "source": [
    "# Atividade 8"
   ]
  },
  {
   "cell_type": "code",
   "execution_count": null,
   "metadata": {},
   "outputs": [],
   "source": [
    "dia = str(input(\"Insira um dia da semana: \"))\n",
    "dia.lower()\n",
    "\n",
    "if (dia == \"domingo\"):\n",
    "    print(\"Dia de netflix, futebol ou cinema!\")\n",
    "elif (dia == \"sabado\") or (dia == \"sábado\"):\n",
    "    print(\"Dia de balada!\")\n",
    "elif (dia == \"segunda\") or (dia == \"terça\") or (dia == \"terca\") or (dia == \"quarta\") or (dia == \"quinta\") or (dia == \"sexta\"):\n",
    "    print(\"Dia de trabalhar ou estudar!\")\n",
    "else:\n",
    "    print(\"Insira um valor válido!\")"
   ]
  },
  {
   "attachments": {},
   "cell_type": "markdown",
   "metadata": {},
   "source": [
    "# Atividade 9"
   ]
  },
  {
   "cell_type": "code",
   "execution_count": 34,
   "metadata": {},
   "outputs": [
    {
     "name": "stdout",
     "output_type": "stream",
     "text": [
      "Você precisa de título de eleitor para votar!\n"
     ]
    }
   ],
   "source": [
    "idade = int(input(\"Insira sua idade: \"))\n",
    "\n",
    "if idade >= 16:\n",
    "    titulo = str(input(\"Você tem título de eleitor? \"))\n",
    "    titulo.lower()\n",
    "    if (titulo == \"sim\"):\n",
    "        print(\"Você pode votar!\")\n",
    "    elif (titulo == \"não\" or titulo == \"nao\") and (idade>=18):\n",
    "        print(\"Você precisa fazer seu título de eleitor pois já é obrigatório o voto!\")\n",
    "    else:\n",
    "        print(\"É direito seu!\")\n",
    "else:\n",
    "    print(\"Você é muito novo para votar!\")"
   ]
  }
 ],
 "metadata": {
  "kernelspec": {
   "display_name": "Python 3",
   "language": "python",
   "name": "python3"
  },
  "language_info": {
   "codemirror_mode": {
    "name": "ipython",
    "version": 3
   },
   "file_extension": ".py",
   "mimetype": "text/x-python",
   "name": "python",
   "nbconvert_exporter": "python",
   "pygments_lexer": "ipython3",
   "version": "3.11.4"
  },
  "orig_nbformat": 4
 },
 "nbformat": 4,
 "nbformat_minor": 2
}
