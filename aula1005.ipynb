{
 "cells": [
  {
   "attachments": {},
   "cell_type": "markdown",
   "metadata": {},
   "source": [
    "# FUNÇÃO"
   ]
  },
  {
   "attachments": {},
   "cell_type": "markdown",
   "metadata": {},
   "source": [
    "## Exercício 1\n",
    "\n",
    "Soma de dois números."
   ]
  },
  {
   "cell_type": "code",
   "execution_count": 2,
   "metadata": {},
   "outputs": [
    {
     "name": "stdout",
     "output_type": "stream",
     "text": [
      "15\n",
      "600\n"
     ]
    }
   ],
   "source": [
    "def soma(x,y):\n",
    "    \"\"\"Função soma\"\"\"\n",
    "    resultado = x + y\n",
    "    return resultado\n",
    "\n",
    "print(soma(10,5))\n",
    "print(soma(100,500))\n"
   ]
  },
  {
   "cell_type": "code",
   "execution_count": null,
   "metadata": {},
   "outputs": [],
   "source": [
    "def soma(x,y):\n",
    "    \"\"\"Função soma\"\"\"\n",
    "    return x + y"
   ]
  },
  {
   "attachments": {},
   "cell_type": "markdown",
   "metadata": {},
   "source": [
    "Crie funções para fazer soma, subtração, divisão e multiplicação."
   ]
  },
  {
   "cell_type": "code",
   "execution_count": 3,
   "metadata": {},
   "outputs": [
    {
     "name": "stdout",
     "output_type": "stream",
     "text": [
      "30\n",
      "-10\n",
      "0.5\n",
      "200\n"
     ]
    }
   ],
   "source": [
    "def soma(x,y):\n",
    "    \"\"\"Função soma\"\"\"\n",
    "    resultado = x + y\n",
    "    return resultado\n",
    "\n",
    "def subtracao(x,y):\n",
    "    \"\"\"Função subtração\"\"\"\n",
    "    resultado = x - y\n",
    "    return resultado\n",
    "\n",
    "def divisao(x,y):\n",
    "    \"\"\"Função divisão\"\"\"\n",
    "    resultado = x / y\n",
    "    return resultado\n",
    "\n",
    "def multiplicacao(x,y):\n",
    "    \"\"\"Função multiplicação\"\"\"\n",
    "    resultado = x * y\n",
    "    return resultado\n",
    "\n",
    "print(soma(10,20))\n",
    "print(subtracao(10,20))\n",
    "print(divisao(10,20))\n",
    "print(multiplicacao(10,20))"
   ]
  },
  {
   "attachments": {},
   "cell_type": "markdown",
   "metadata": {},
   "source": [
    "# Exercício 2\n",
    "Crie uma função para calcular a área de um quadrado, retangulo, círculo e triângulo."
   ]
  },
  {
   "cell_type": "code",
   "execution_count": 4,
   "metadata": {},
   "outputs": [
    {
     "name": "stdout",
     "output_type": "stream",
     "text": [
      "16\n",
      "8\n",
      "12.56\n",
      "4.0\n"
     ]
    }
   ],
   "source": [
    "def AreaQuadrado(lado):\n",
    "    area = lado * lado\n",
    "    return area\n",
    "\n",
    "def AreaRetangulo(base,altura):\n",
    "    area = base * altura\n",
    "    return area\n",
    "\n",
    "def AreaCirculo(raio):\n",
    "    area = 3.14* (raio**2)\n",
    "    return area\n",
    "\n",
    "def AreaTriangulo(base,altura):\n",
    "    area = (base * altura) /2\n",
    "    return area\n",
    "\n",
    "print(AreaQuadrado(4))\n",
    "print(AreaRetangulo(2,4))\n",
    "print(AreaCirculo(2))\n",
    "print(AreaTriangulo(2,4))"
   ]
  },
  {
   "attachments": {},
   "cell_type": "markdown",
   "metadata": {},
   "source": [
    "# Exercício 3\n",
    "Crie uma função para calcular o volume de um cubo."
   ]
  },
  {
   "cell_type": "code",
   "execution_count": 7,
   "metadata": {},
   "outputs": [
    {
     "name": "stdout",
     "output_type": "stream",
     "text": [
      "27\n"
     ]
    }
   ],
   "source": [
    "def volumeCubo(lado):\n",
    "    volume = lado**3\n",
    "    return volume\n",
    "\n",
    "print(volumeCubo(3))"
   ]
  },
  {
   "attachments": {},
   "cell_type": "markdown",
   "metadata": {},
   "source": [
    "# Exercício 4\n",
    "Crie uma função para calcular a área de um terreno."
   ]
  },
  {
   "cell_type": "code",
   "execution_count": 8,
   "metadata": {},
   "outputs": [
    {
     "name": "stdout",
     "output_type": "stream",
     "text": [
      "6.0\n"
     ]
    }
   ],
   "source": [
    "def area(x,y):\n",
    "    area = x * y\n",
    "    return area\n",
    "\n",
    "comprimento = float(input(\"Insira o comprimento do terreno.\"))\n",
    "largura = float(input(\"Insira a largura do terreno.\"))\n",
    "\n",
    "print(area(comprimento,largura))"
   ]
  },
  {
   "attachments": {},
   "cell_type": "markdown",
   "metadata": {},
   "source": [
    "# Exercício 5\n",
    "Crie uma função para mostrar se um número é par ou ímpar"
   ]
  },
  {
   "cell_type": "code",
   "execution_count": 18,
   "metadata": {},
   "outputs": [
    {
     "name": "stdout",
     "output_type": "stream",
     "text": [
      "Ímpar\n"
     ]
    }
   ],
   "source": [
    "def ParouImpar(numero):\n",
    "    if(numero%2 == 0):\n",
    "        resultado = \"Par\"\n",
    "    else:\n",
    "        resultado = \"Ímpar\"\n",
    "    return resultado\n",
    "    \n",
    "print(ParouImpar(7))"
   ]
  },
  {
   "attachments": {},
   "cell_type": "markdown",
   "metadata": {},
   "source": [
    "# Exercício 6\n",
    "Crie uma função que calcula a soma de valores de uma lista = [10,15,25,30,15]"
   ]
  },
  {
   "cell_type": "code",
   "execution_count": 8,
   "metadata": {},
   "outputs": [
    {
     "name": "stdout",
     "output_type": "stream",
     "text": [
      "95\n"
     ]
    }
   ],
   "source": [
    "lista = [10,15,25,30,15]\n",
    "\n",
    "def soma(valor):\n",
    "    soma = 0\n",
    "    for k in lista:\n",
    "        soma+=k\n",
    "    return soma\n",
    "\n",
    "    \n",
    "print(soma(lista))\n"
   ]
  }
 ],
 "metadata": {
  "kernelspec": {
   "display_name": "Python 3",
   "language": "python",
   "name": "python3"
  },
  "language_info": {
   "codemirror_mode": {
    "name": "ipython",
    "version": 3
   },
   "file_extension": ".py",
   "mimetype": "text/x-python",
   "name": "python",
   "nbconvert_exporter": "python",
   "pygments_lexer": "ipython3",
   "version": "3.11.4"
  },
  "orig_nbformat": 4
 },
 "nbformat": 4,
 "nbformat_minor": 2
}
