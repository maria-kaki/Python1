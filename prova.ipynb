{
 "cells": [
  {
   "attachments": {},
   "cell_type": "markdown",
   "metadata": {},
   "source": [
    "Neste jogo, o usuário 1 escolhe a palavra a ser adivinhada. O usuário 2 tem três tentativas para adivinhar a palavra. Se acertar, o programa imprime \"Parabéns! Você acertou a palavra:\". Caso contrário, o programa informa quantas tentativas restantes o usuário 2 tem. Se o usuário 2 não adivinhar corretamente, o programa informa que ele perdeu."
   ]
  },
  {
   "cell_type": "code",
   "execution_count": 4,
   "metadata": {},
   "outputs": [
    {
     "name": "stdout",
     "output_type": "stream",
     "text": [
      "Você perdeu!\n"
     ]
    }
   ],
   "source": [
    "palavra = input(\"Escolha uma palavra para ser adivinhada: \")\n",
    "tentativa1 = input(\"Tente adivinhar a palavra (você tem 3 tentativas): \")\n",
    "\n",
    "if tentativa1 != palavra:\n",
    "    tentativa2 = input(\"Tenta novamente (você tem 2 tentativas): \")\n",
    "    if tentativa2 != palavra:\n",
    "        tentativa3 = input(\"Tenta novamente (você tem 1 tentativa): \")\n",
    "        if tentativa3 != palavra:\n",
    "            print(\"Você perdeu!\")\n",
    "        else:\n",
    "            print(\"Parabéns! Você acertou a palavra na terceira tentativa!\")\n",
    "    else:\n",
    "        print(\"Parabéns! Você acertou a palavra na segunda tentativa!\")\n",
    "else:\n",
    "    print(\"Parabéns! Você acertou a palavra de primeira!\")\n"
   ]
  },
  {
   "attachments": {},
   "cell_type": "markdown",
   "metadata": {},
   "source": [
    "Crie um programa que solicite a quantidade de 4 produtos e seus respectivos valores.\n",
    "Em seguida, exiba os valores da relação preço x quantidade dos produtos em ordem crescente.\n",
    "Utilize apenas os conceitos apresentados em sala de aula."
   ]
  },
  {
   "cell_type": "code",
   "execution_count": 15,
   "metadata": {},
   "outputs": [
    {
     "name": "stdout",
     "output_type": "stream",
     "text": [
      "\n"
     ]
    }
   ],
   "source": [
    "produto1 = int(input(\"Insira a quantidade de produtos do produto 1: \"))\n",
    "valor1 = float(input(\"Insira o valor dele: \"))\n",
    "\n",
    "produto2 = int(input(\"Insira a quantidade de produtos do produto 2: \"))\n",
    "valor2 = float(input(\"Insira o valor dele: \"))\n",
    "\n",
    "produto3 = int(input(\"Insira a quantidade de produtos do produto 3: \"))\n",
    "valor3 = float(input(\"Insira o valor dele: \"))\n",
    "\n",
    "produto4 = int(input(\"Insira a quantidade de produtos do produto 4: \"))\n",
    "valor4 = float(input(\"Insira o valor dele: \"))\n",
    "\n",
    "total1 = valor1*produto1\n",
    "total2 = valor2*produto2\n",
    "total3 = valor3*produto3\n",
    "total4 = valor4*produto4\n",
    "\n",
    "if total1>total2 and total1>total3 and total1>total4 and total2>total3 and total3 > total4:\n",
    "    print(f\"Valor total do produto 1: {total1}\\nValor total do produto 2: {total2}\\nValor total do produto 3: {total3}\\nValor total do produto 4: {total4}\")\n",
    "elif total1>total2 and total1>total3 and total1>total4 and total2>total3 and total3 < total4:\n",
    "    print(f\"Valor total do produto 1: {total1}\\nValor total do produto 2: {total2}\\nValor total do produto 4: {total4}\\nValor total do produto 3: {total3}\")\n",
    "elif total1>total2 and total1>total3 and total1>total4 and total3>total2 and total4 > total2:\n",
    "    print(f\"Valor total do produto 1: {total1}\\nValor total do produto 3: {total3}\\nValor total do produto 4: {total4}\\nValor total do produto 2: {total2}\")\n",
    "else:\n",
    "    print(\"\")"
   ]
  },
  {
   "cell_type": "code",
   "execution_count": 3,
   "metadata": {},
   "outputs": [
    {
     "name": "stdout",
     "output_type": "stream",
     "text": [
      "Primeira falha, mais uma será bloqueado.\n",
      "O usuário será bloqueado.\n"
     ]
    }
   ],
   "source": [
    "nome = input(\"Insira seu nome: \")\n",
    "\n",
    "if nome != \"maria\":\n",
    "    print(\"Primeira falha, mais uma será bloqueado.\")\n",
    "    senha = input(\"Insira sua senha: \")\n",
    "    if senha != \"123\":\n",
    "        print(\"O usuário será bloqueado.\")\n",
    "    else:\n",
    "        palavra = input(\"Insira a palavra-chave: \")\n",
    "        if palavra != \"chave\":\n",
    "            print(\"O usuário será bloqueado.\")\n",
    "        else:\n",
    "            print(\"Senha errada, mas de resto certo. Porém, não permitido.\")\n",
    "else:\n",
    "    senha = input(\"Insira sua senha: \")\n",
    "    if senha != \"123\":\n",
    "        print(\"Primeira falha, mais uma será bloqueado.\")\n",
    "        palavra = input(\"Insira a palavra-chave: \")\n",
    "        if palavra != \"chave\":\n",
    "            print(\"O usuário será bloqueado.\")\n",
    "        else:\n",
    "            print(\"Senha errada, mas de resto certo. Porém, não permitido.\")\n",
    "    else:\n",
    "        palavra = input(\"Insira a palavra-chave: \")\n",
    "        if palavra != \"chave\":\n",
    "            print(\"Palavra errada, mas de resto certo. Porém, não permitido.\")\n",
    "        else:\n",
    "            print(\"Acesso permitido!\")\n",
    "        "
   ]
  },
  {
   "attachments": {},
   "cell_type": "markdown",
   "metadata": {},
   "source": [
    "Desenvolva um conversor de moeda que permita ao usuário inserir a moeda que deseja converter. Em seguida, crie uma estrutura para converter a moeda escolhida para três moedas selecionadas pelo usuário. Você definirá a relação de conversão das moedas."
   ]
  },
  {
   "cell_type": "code",
   "execution_count": 11,
   "metadata": {},
   "outputs": [
    {
     "name": "stdout",
     "output_type": "stream",
     "text": [
      "Insira a moeda do valor que você inseriu, considerando:\n",
      "1.Real\n",
      "2.Dólar\n",
      "3.Euro\n",
      "O valor em real é 5.45\n",
      "O valor em dolar é 1.06\n",
      "O valor em yen é 163.12\n"
     ]
    }
   ],
   "source": [
    "quantidade = float(input(\"Insira qual o valor: \"))\n",
    "print(\"Insira a moeda do valor que você inseriu, considerando:\\n1.Real\\n2.Dólar\\n3.Euro\")\n",
    "moeda = int(input())\n",
    "\n",
    "if moeda == 1:\n",
    "    dolar = quantidade / 5.12\n",
    "    euro = quantidade / 5.45\n",
    "    yen = quantidade * 29.97\n",
    "    print(f\"O valor em dolar é {dolar}\\nO valor em euro é {euro}\\nO valor em yen é {yen}\")\n",
    "elif moeda == 2:\n",
    "    real = quantidade * 5.12\n",
    "    euro = quantidade * 0.94\n",
    "    yen = quantidade * 153.28\n",
    "    print(f\"O valor em real é {real}\\nO valor em euro é {euro}\\nO valor em yen é {yen}\")\n",
    "elif moeda == 3:\n",
    "    real = quantidade * 5.45\n",
    "    dolar = quantidade * 1.06\n",
    "    yen = quantidade * 163.12\n",
    "    print(f\"O valor em real é {real}\\nO valor em dolar é {dolar}\\nO valor em yen é {yen}\")\n",
    "else:\n",
    "    print(\"Insira uma moeda válida!\")"
   ]
  },
  {
   "attachments": {},
   "cell_type": "markdown",
   "metadata": {},
   "source": [
    "Crie um programa para calcular a média ponderada de 4 valores de vendas com entrada de dados pelo usuário.\n",
    "Em seguida, exiba a porcentagem de cada valor de venda em relação à média ponderada."
   ]
  },
  {
   "cell_type": "code",
   "execution_count": 13,
   "metadata": {},
   "outputs": [
    {
     "name": "stdout",
     "output_type": "stream",
     "text": [
      "4.0\n",
      "A porcentagem da venda 1 em relação à média é de 50.0%\n",
      "A porcentagem da venda 2 em relação à média é de 75.0%\n",
      "A porcentagem da venda 3 em relação à média é de 100.0%\n",
      "A porcentagem da venda 4 em relação à média é de 125.0%\n"
     ]
    }
   ],
   "source": [
    "venda1 = float(input(\"Insira o valor da primeira venda: \"))\n",
    "peso1 = float(input(\"Insira o peso dela: \"))\n",
    "\n",
    "venda2 = float(input(\"Insira valor da segunda venda: \"))\n",
    "peso2 = float(input(\"Insira o peso dela: \"))\n",
    "\n",
    "venda3 = float(input(\"Insira valor da terceira venda: \"))\n",
    "peso3 = float(input(\"Insira o peso dela: \"))\n",
    "\n",
    "venda4 = float(input(\"Insira valor da quarta venda: \"))\n",
    "peso4 = float(input(\"Insira o peso dela: \"))\n",
    "\n",
    "media = ((venda1*peso1)+(venda2*peso2)+(venda3*peso3)+(venda4*peso4))/(peso1+peso2+peso3+peso4)\n",
    "\n",
    "p1 = (venda1/media)*100\n",
    "p2 = (venda2/media)*100\n",
    "p3 = (venda3/media)*100\n",
    "p4 = (venda4/media)*100\n",
    "print(media)\n",
    "print (f\"A porcentagem da venda 1 em relação à média é de {p1}%\\nA porcentagem da venda 2 em relação à média é de {p2}%\\nA porcentagem da venda 3 em relação à média é de {p3}%\\nA porcentagem da venda 4 em relação à média é de {p4}%\")\n"
   ]
  },
  {
   "attachments": {},
   "cell_type": "markdown",
   "metadata": {},
   "source": [
    "Você é responsável pela verificação dos passaportes dos passageiros que chegam ao aeroporto internacional. Desenvolva um programa que permita a entrada dos dados do passageiro (nome, nacionalidade e número do passaporte) e verifique se o passaporte é americano, britânico, alemão ou brasileiro. Se o passageiro for brasileiro, exiba uma mensagem de boas-vindas e informe que não é necessário visto para entrada no país. Caso contrário, exiba uma mensagem informando que o passageiro precisa verificar os requisitos de visto para entrada no país."
   ]
  },
  {
   "cell_type": "code",
   "execution_count": null,
   "metadata": {},
   "outputs": [],
   "source": [
    "nome = input(\"Insira seu nome: \")\n",
    "nacionalidade = input(\"Insira sua nacionalidade: \").lower()\n",
    "numero = int(input(\"Insira o número do seu passaporte: \"))\n",
    "\n",
    "if nacionalidade == \"brasileiro\" or nacionalidade == \"brasileira\":\n",
    "    print(\"Bem-vindo(a)!\\nNo seu caso, não é necessário visto para entrada no país.\")\n",
    "else:\n",
    "    print(\"Você precisa verificar os requisitos de visto para entrada no país!\")"
   ]
  }
 ],
 "metadata": {
  "kernelspec": {
   "display_name": "Python 3",
   "language": "python",
   "name": "python3"
  },
  "language_info": {
   "codemirror_mode": {
    "name": "ipython",
    "version": 3
   },
   "file_extension": ".py",
   "mimetype": "text/x-python",
   "name": "python",
   "nbconvert_exporter": "python",
   "pygments_lexer": "ipython3",
   "version": "3.11.4"
  },
  "orig_nbformat": 4
 },
 "nbformat": 4,
 "nbformat_minor": 2
}
