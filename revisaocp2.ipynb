{
 "cells": [
  {
   "attachments": {},
   "cell_type": "markdown",
   "metadata": {},
   "source": [
    "# Ativ 1 \n",
    "Estrutura que pede 5 valores usando while.\n",
    "Some os valores\n",
    "calcule a média"
   ]
  },
  {
   "cell_type": "code",
   "execution_count": 4,
   "metadata": {},
   "outputs": [
    {
     "name": "stdout",
     "output_type": "stream",
     "text": [
      "O resultado da média é 5.2\n"
     ]
    }
   ],
   "source": [
    "i = 0\n",
    "resultado = 0\n",
    "\n",
    "while i <= 4:\n",
    "    n = float(input(\"Insira um valor.\"))\n",
    "    resultado +=n\n",
    "    i+=1\n",
    "\n",
    "resultado = resultado/5\n",
    "\n",
    "print(f\"O resultado da média é {resultado}\")"
   ]
  },
  {
   "attachments": {},
   "cell_type": "markdown",
   "metadata": {},
   "source": [
    "# Ativ 2\n",
    "Crie um programa para solicitar o email e senha e, caso o usuário acerte o email e senha, mostre que terá acesso ao email. Caso contrário, dê apenas duas chances para acertar o email e senha."
   ]
  },
  {
   "cell_type": "code",
   "execution_count": 9,
   "metadata": {},
   "outputs": [
    {
     "name": "stdout",
     "output_type": "stream",
     "text": [
      "E-mail ou senha incorretos.\n",
      "Você terá acesso ao e-mail.\n"
     ]
    }
   ],
   "source": [
    "login = ['maria@maria','1234']\n",
    "i = 0\n",
    "\n",
    "while i<3:\n",
    "    email = input(\"Insira o e-mail.\")\n",
    "    senha = input(\"Insira uma senha.\")\n",
    "    if email == login[0] and senha == login[1]:\n",
    "        print(\"Você terá acesso ao e-mail.\")\n",
    "        break\n",
    "    else:\n",
    "        i+=1\n",
    "        print(\"E-mail ou senha incorretos.\")\n",
    "\n"
   ]
  },
  {
   "attachments": {},
   "cell_type": "markdown",
   "metadata": {},
   "source": [
    "# Ativ 3\n",
    "Crie um programa para solicitar o nome, rg e cep de 5 usuários e armazene em listas."
   ]
  },
  {
   "cell_type": "code",
   "execution_count": 11,
   "metadata": {},
   "outputs": [
    {
     "name": "stdout",
     "output_type": "stream",
     "text": [
      "Nome: m\n",
      "RG: 12\n",
      "CEP: 21\n",
      "Nome: lo\n",
      "RG: 34\n",
      "CEP: 43\n",
      "Nome: gc\n",
      "RG: 67\n",
      "CEP: 776\n",
      "Nome: gm\n",
      "RG: 45\n",
      "CEP: 54\n",
      "Nome: lp\n",
      "RG: 47\n",
      "CEP: 76\n"
     ]
    }
   ],
   "source": [
    "nomes = []\n",
    "rgs = []\n",
    "ceps = []\n",
    "\n",
    "for i in range(5):\n",
    "    nome = input(\"Escreva um nome.\")\n",
    "    rg = input(\"Escreva um RG.\")\n",
    "    cep = input(\"Escreva um CEP.\")\n",
    "\n",
    "    nomes.append(nome)\n",
    "    rgs.append(rg)\n",
    "    ceps.append(cep)\n",
    "\n",
    "    i+=1\n",
    "\n",
    "for k in range(len(nomes)):\n",
    "    print(f\"Nome: {nomes[k]}\")\n",
    "    print(f\"RG: {rgs[k]}\")\n",
    "    print(f\"CEP: {ceps[k]}\")\n"
   ]
  }
 ],
 "metadata": {
  "kernelspec": {
   "display_name": "Python 3",
   "language": "python",
   "name": "python3"
  },
  "language_info": {
   "codemirror_mode": {
    "name": "ipython",
    "version": 3
   },
   "file_extension": ".py",
   "mimetype": "text/x-python",
   "name": "python",
   "nbconvert_exporter": "python",
   "pygments_lexer": "ipython3",
   "version": "3.11.4"
  },
  "orig_nbformat": 4
 },
 "nbformat": 4,
 "nbformat_minor": 2
}
