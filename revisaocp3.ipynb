{
 "cells": [
  {
   "attachments": {},
   "cell_type": "markdown",
   "metadata": {},
   "source": [
    "# Exercicio 1\n",
    "Crie uma função para calcular o desconto de 5 funcionarios de uma empresa.\n",
    "Utilize estrutura de repetição e função def para resolver o problema. 5, 10, 15, 20 e 25%\n",
    "Mostre em forma de tupla."
   ]
  },
  {
   "cell_type": "code",
   "execution_count": 13,
   "metadata": {},
   "outputs": [
    {
     "data": {
      "text/plain": [
       "(1900.0, 2700.0, 3400.0, 4000.0, 4500.0)"
      ]
     },
     "execution_count": 13,
     "metadata": {},
     "output_type": "execute_result"
    }
   ],
   "source": [
    "def salario(salarios):\n",
    "    for i in range(len(salarios)):\n",
    "        if salarios[i] <= 2000:\n",
    "            valor = salarios[i] * 0.95\n",
    "        elif salarios[i] <= 3000:\n",
    "            valor1 = salarios[i] * 0.9\n",
    "        elif salarios[i] <= 4000:\n",
    "            valor2 = salarios[i] * 0.85\n",
    "        elif salarios[i] <= 5000:\n",
    "            valor3 = salarios[i] * 0.80\n",
    "        else:\n",
    "            valor4 = salarios[i] * 0.75\n",
    "    return valor, valor1, valor2, valor3, valor4\n",
    "\n",
    "salario([2000,3000,4000,5000,6000])\n"
   ]
  },
  {
   "attachments": {},
   "cell_type": "markdown",
   "metadata": {},
   "source": [
    "# Exercício 2\n",
    "Crie uma função para controla de notas de alunos. Solicite 5 notas e calcule a média.\n",
    "Caso a média seja >= 7, mostre que o aluno está aprovado, caso contrário, reprovado."
   ]
  },
  {
   "cell_type": "code",
   "execution_count": 8,
   "metadata": {},
   "outputs": [
    {
     "data": {
      "text/plain": [
       "('Aluno reprovado com média: ', 4.0)"
      ]
     },
     "execution_count": 8,
     "metadata": {},
     "output_type": "execute_result"
    }
   ],
   "source": [
    "def media(lista_notas):\n",
    "    resultado = sum(lista_notas) / len(lista_notas)\n",
    "\n",
    "    if (resultado >= 7):\n",
    "        return (\"Aluno aprovado com média: \",resultado)\n",
    "    else:\n",
    "        return (\"Aluno reprovado com média: \",resultado)\n",
    "\n",
    "notas = []\n",
    "\n",
    "nota1 = float(input(\"Digite a primeira nota.\"))\n",
    "notas.append(nota1)\n",
    "\n",
    "nota2 = float(input(\"Digite a segunda nota.\"))\n",
    "notas.append(nota2)\n",
    "\n",
    "nota3 = float(input(\"Digite a terceira nota.\"))\n",
    "notas.append(nota3)\n",
    "\n",
    "nota4 = float(input(\"Digite a quarta nota.\"))\n",
    "notas.append(nota4)\n",
    "\n",
    "nota5 = float(input(\"Digite a quinta nota.\"))\n",
    "notas.append(nota5)\n",
    "\n",
    "media(notas)\n"
   ]
  }
 ],
 "metadata": {
  "kernelspec": {
   "display_name": "Python 3",
   "language": "python",
   "name": "python3"
  },
  "language_info": {
   "codemirror_mode": {
    "name": "ipython",
    "version": 3
   },
   "file_extension": ".py",
   "mimetype": "text/x-python",
   "name": "python",
   "nbconvert_exporter": "python",
   "pygments_lexer": "ipython3",
   "version": "3.11.4"
  },
  "orig_nbformat": 4
 },
 "nbformat": 4,
 "nbformat_minor": 2
}
