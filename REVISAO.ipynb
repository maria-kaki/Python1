{
 "cells": [
  {
   "cell_type": "code",
   "execution_count": 1,
   "metadata": {},
   "outputs": [
    {
     "name": "stdout",
     "output_type": "stream",
     "text": [
      "A média ponderada é  32.0\n"
     ]
    }
   ],
   "source": [
    "nota1 = float(input(\"Insira a primeira nota: \"))\n",
    "peso1 = float(input(\"Insira o peso dela: \"))\n",
    "\n",
    "nota2 = float(input(\"Insira a segunda nota: \"))\n",
    "peso2 = float(input(\"Insira o peso dela: \"))\n",
    "\n",
    "nota3 = float(input(\"Insira a terceira nota: \"))\n",
    "peso3 = float(input(\"Insira o peso dela: \"))\n",
    "\n",
    "nota4 = float(input(\"Insira a quarta nota: \"))\n",
    "peso4 = float(input(\"Insira o peso dela: \"))\n",
    "\n",
    "nota5 = float(input(\"Insira a quinta nota: \"))\n",
    "peso5 = float(input(\"Insira o peso dela: \"))\n",
    "\n",
    "media = ((nota1*peso1)+(nota2*peso2)+(nota3*peso3)+(nota4*peso4)+(nota5*peso5))/peso1+peso2+peso3+peso4+peso5\n",
    "\n",
    "print(\"A média ponderada é \",media)"
   ]
  },
  {
   "cell_type": "code",
   "execution_count": 2,
   "metadata": {},
   "outputs": [
    {
     "name": "stdout",
     "output_type": "stream",
     "text": [
      "ENTROU!\n"
     ]
    }
   ],
   "source": [
    "email = input(\"Insira um e-mail: \")\n",
    "\n",
    "if email == \"maria@maria.com\":\n",
    "    senha = input(\"Insira uma senha: \")\n",
    "    if senha == \"123\":\n",
    "        codigo = input(\"Insira um código de segurança: \")\n",
    "        if codigo == \"ABC\":\n",
    "            print(\"ENTROU!\")\n",
    "        else:\n",
    "            print(\"Código errado.\")\n",
    "    else:\n",
    "        print(\"Senha inválida\")\n",
    "else:\n",
    "    print(\"E-mail inválido.\")\n"
   ]
  },
  {
   "cell_type": "code",
   "execution_count": 6,
   "metadata": {},
   "outputs": [
    {
     "name": "stdout",
     "output_type": "stream",
     "text": [
      "O valor do imposto é R$ 33000.0\n"
     ]
    }
   ],
   "source": [
    "salario = float(input(\"Insira o salário do funcionário: \"))\n",
    "\n",
    "if salario <= 1412.00:\n",
    "    print(\"O valor do imposto por ano é R$\", salario*12*0.075)\n",
    "elif salario <= 2666.68:\n",
    "    print(\"O valor do imposto por ano é R$\", salario*12*0.09)\n",
    "elif salario <= 4000.03:\n",
    "    print(\"O valor do imposto por ano é R$\", salario*12*0.12)\n",
    "elif salario <= 7786.02:\n",
    "    print(\"O valor do imposto por ano é R$\", salario*12*0.14)\n",
    "else:\n",
    "    print(\"O valor do imposto por ano é R$\", salario*12*0.275)"
   ]
  },
  {
   "cell_type": "code",
   "execution_count": 9,
   "metadata": {},
   "outputs": [
    {
     "name": "stdout",
     "output_type": "stream",
     "text": [
      "Você só pode fazer exames de sangue e radiografias.\n"
     ]
    }
   ],
   "source": [
    "tempo = int(input(\"Insira a quantos meses você tem o convênio:\"))\n",
    "\n",
    "if tempo <= 6:\n",
    "    print(\"Você só pode fazer exames de sangue.\")\n",
    "elif tempo <= 12:\n",
    "    print(\"Você só pode fazer exames de sangue e radiografias.\")\n",
    "else:\n",
    "    print(\"Você só pode fazer exames mais complexos, porém, é necessário pedir permissão ao convênio.\")"
   ]
  }
 ],
 "metadata": {
  "kernelspec": {
   "display_name": "Python 3",
   "language": "python",
   "name": "python3"
  },
  "language_info": {
   "codemirror_mode": {
    "name": "ipython",
    "version": 3
   },
   "file_extension": ".py",
   "mimetype": "text/x-python",
   "name": "python",
   "nbconvert_exporter": "python",
   "pygments_lexer": "ipython3",
   "version": "3.11.4"
  },
  "orig_nbformat": 4
 },
 "nbformat": 4,
 "nbformat_minor": 2
}
