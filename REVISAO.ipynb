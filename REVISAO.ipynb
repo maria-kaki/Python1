{
 "cells": [
  {
   "cell_type": "code",
   "execution_count": 1,
   "metadata": {},
   "outputs": [
    {
     "name": "stdout",
     "output_type": "stream",
     "text": [
      "A média ponderada é  32.0\n"
     ]
    }
   ],
   "source": [
    "nota1 = float(input(\"Insira a primeira nota: \"))\n",
    "peso1 = float(input(\"Insira o peso dela: \"))\n",
    "\n",
    "nota2 = float(input(\"Insira a segunda nota: \"))\n",
    "peso2 = float(input(\"Insira o peso dela: \"))\n",
    "\n",
    "nota3 = float(input(\"Insira a terceira nota: \"))\n",
    "peso3 = float(input(\"Insira o peso dela: \"))\n",
    "\n",
    "nota4 = float(input(\"Insira a quarta nota: \"))\n",
    "peso4 = float(input(\"Insira o peso dela: \"))\n",
    "\n",
    "nota5 = float(input(\"Insira a quinta nota: \"))\n",
    "peso5 = float(input(\"Insira o peso dela: \"))\n",
    "\n",
    "media = ((nota1*peso1)+(nota2*peso2)+(nota3*peso3)+(nota4*peso4)+(nota5*peso5))/peso1+peso2+peso3+peso4+peso5\n",
    "\n",
    "print(\"A média ponderada é \",media)"
   ]
  },
  {
   "cell_type": "code",
   "execution_count": null,
   "metadata": {},
   "outputs": [],
   "source": [
    "email = input(\"Insira um e-mail: \")\n",
    "\n",
    "if email == \"maria@maria.com\":\n",
    "    senha = input(\"Insira uma senha: \")\n",
    "    if senha == \"123\":\n",
    "        codigo = input(\"Insira um código de segurança: \")\n",
    "        if codigo == \"ABC\":\n",
    "            print(\"ENTROU!\")\n",
    "        else:\n",
    "            print(\"Código errado.\")\n",
    "    else:\n",
    "        print(\"Senha inválida\")\n",
    "else:\n",
    "    print(\"E-mail inválido.\")\n"
   ]
  }
 ],
 "metadata": {
  "kernelspec": {
   "display_name": "Python 3",
   "language": "python",
   "name": "python3"
  },
  "language_info": {
   "codemirror_mode": {
    "name": "ipython",
    "version": 3
   },
   "file_extension": ".py",
   "mimetype": "text/x-python",
   "name": "python",
   "nbconvert_exporter": "python",
   "pygments_lexer": "ipython3",
   "version": "3.11.4"
  },
  "orig_nbformat": 4
 },
 "nbformat": 4,
 "nbformat_minor": 2
}
