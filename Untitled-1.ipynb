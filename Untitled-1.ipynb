{
 "cells": [
  {
   "attachments": {},
   "cell_type": "markdown",
   "metadata": {},
   "source": [
    "# Cálculo de Média"
   ]
  },
  {
   "cell_type": "code",
   "execution_count": 15,
   "metadata": {},
   "outputs": [
    {
     "name": "stdout",
     "output_type": "stream",
     "text": [
      "Aluno Reprovado!\n",
      "Média:  6.333333333333333\n"
     ]
    }
   ],
   "source": [
    "n1 = float(input(\"Nota 1: \"))\n",
    "n2 = float(input(\"Nota 2: \"))\n",
    "n3 = float(input(\"Nota 3: \"))\n",
    "\n",
    "media = (n1+n2+n3)/3\n",
    "\n",
    "if(media>7):\n",
    "    print(\"Aluno aprovado!\\nMédia: \", media)\n",
    "else:\n",
    "    print(\"Aluno Reprovado!\\nMédia: \", media)\n"
   ]
  },
  {
   "attachments": {},
   "cell_type": "markdown",
   "metadata": {},
   "source": [
    "# Acrescente a presença nas aulas"
   ]
  },
  {
   "cell_type": "code",
   "execution_count": 14,
   "metadata": {},
   "outputs": [
    {
     "name": "stdout",
     "output_type": "stream",
     "text": [
      "Aluno Reprovado!\n",
      "Média:  8.0\n"
     ]
    }
   ],
   "source": [
    "n1 = float(input(\"Nota 1: \"))\n",
    "n2 = float(input(\"Nota 2: \"))\n",
    "n3 = float(input(\"Nota 3: \"))\n",
    "f = float(input(\"Insira a frequência: \"))\n",
    "\n",
    "media = (n1+n2+n3)/3\n",
    "\n",
    "if(media>7) & (f >= 75):\n",
    "    print(\"Aluno aprovado!\\nMédia: \", media)\n",
    "else:\n",
    "    print(\"Aluno Reprovado!\\nMédia: \", media)"
   ]
  },
  {
   "attachments": {},
   "cell_type": "markdown",
   "metadata": {},
   "source": [
    "# Cálculo de área"
   ]
  },
  {
   "cell_type": "code",
   "execution_count": 1,
   "metadata": {},
   "outputs": [
    {
     "name": "stdout",
     "output_type": "stream",
     "text": [
      "A área do círculo e de 12.57\n"
     ]
    }
   ],
   "source": [
    "raio = float(input(\"Raio: \"))\n",
    "pi = 3.14159\n",
    "area_circulo = pi * (raio ** 2)\n",
    "\n",
    "print(\"A área do círculo e de {:.2f}\".format(area_circulo))\n"
   ]
  },
  {
   "attachments": {},
   "cell_type": "markdown",
   "metadata": {},
   "source": [
    "# Calculos"
   ]
  },
  {
   "cell_type": "code",
   "execution_count": 2,
   "metadata": {},
   "outputs": [
    {
     "name": "stdout",
     "output_type": "stream",
     "text": [
      "16.0\n"
     ]
    }
   ],
   "source": [
    "x = float(input(\"Insira o valor do x: \"))\n",
    "\n",
    "resultado = (2 * x) +10\n",
    "\n",
    "print(resultado)"
   ]
  },
  {
   "cell_type": "code",
   "execution_count": 3,
   "metadata": {},
   "outputs": [
    {
     "name": "stdout",
     "output_type": "stream",
     "text": [
      "20.0\n"
     ]
    }
   ],
   "source": [
    "x = float(input(\"Insira o valor do x: \"))\n",
    "\n",
    "resultado = (25 * x) - 5\n",
    "\n",
    "print(resultado)"
   ]
  },
  {
   "cell_type": "code",
   "execution_count": 7,
   "metadata": {},
   "outputs": [
    {
     "name": "stdout",
     "output_type": "stream",
     "text": [
      "4050.0\n"
     ]
    }
   ],
   "source": [
    "x = float(input(\"Insira o valor do x: \"))\n",
    "\n",
    "resultado = (10*(x**2)) + (2*x) + 10\n",
    "\n",
    "print(resultado)"
   ]
  }
 ],
 "metadata": {
  "kernelspec": {
   "display_name": "Python 3",
   "language": "python",
   "name": "python3"
  },
  "language_info": {
   "codemirror_mode": {
    "name": "ipython",
    "version": 3
   },
   "file_extension": ".py",
   "mimetype": "text/x-python",
   "name": "python",
   "nbconvert_exporter": "python",
   "pygments_lexer": "ipython3",
   "version": "3.11.4"
  },
  "orig_nbformat": 4
 },
 "nbformat": 4,
 "nbformat_minor": 2
}
