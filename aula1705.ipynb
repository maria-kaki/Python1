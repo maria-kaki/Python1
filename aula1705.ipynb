{
 "cells": [
  {
   "attachments": {},
   "cell_type": "markdown",
   "metadata": {},
   "source": [
    "# Exercício 1\n",
    "Crie uma função para contar até n."
   ]
  },
  {
   "cell_type": "code",
   "execution_count": 15,
   "metadata": {},
   "outputs": [
    {
     "name": "stdout",
     "output_type": "stream",
     "text": [
      "0\n",
      "1\n",
      "2\n",
      "3\n",
      "4\n"
     ]
    }
   ],
   "source": [
    "def contar(n):\n",
    "    i=0\n",
    "    while i<=n:\n",
    "        print (i)\n",
    "        i+=1\n",
    "        \n",
    "numero = int(input(\"Digite um número.\"))\n",
    "contar(numero)"
   ]
  },
  {
   "attachments": {},
   "cell_type": "markdown",
   "metadata": {},
   "source": [
    "# Exercício 2\n",
    "Crie uma função para verificar cores de uma lista_cores = ['azul','verde','amarelo']"
   ]
  },
  {
   "cell_type": "code",
   "execution_count": 17,
   "metadata": {},
   "outputs": [
    {
     "name": "stdout",
     "output_type": "stream",
     "text": [
      "azul\n",
      "verde\n",
      "amarelo\n"
     ]
    }
   ],
   "source": [
    "def cores():\n",
    "    lista_cores = ['azul','verde','amarelo']\n",
    "    for i in lista_cores:\n",
    "        print(i)\n",
    "\n",
    "cores()\n"
   ]
  },
  {
   "attachments": {},
   "cell_type": "markdown",
   "metadata": {},
   "source": [
    "# Exercício 3\n",
    "Crie uma função para simular uma calculadora de despesas levando em consideração a lista_mes = ['janeiro','fevereiro','março']"
   ]
  },
  {
   "cell_type": "code",
   "execution_count": null,
   "metadata": {},
   "outputs": [],
   "source": []
  },
  {
   "attachments": {},
   "cell_type": "markdown",
   "metadata": {},
   "source": [
    "# Exercício 4\n",
    "Crie uma função para monitorar a temperatura solicitando valores de temperatura para o usuário até o mesmo digitar -999. Depois disso, retorne o valor mínimo, máximo, médio e mediano da temperatura."
   ]
  },
  {
   "cell_type": "code",
   "execution_count": null,
   "metadata": {},
   "outputs": [],
   "source": []
  }
 ],
 "metadata": {
  "kernelspec": {
   "display_name": "Python 3",
   "language": "python",
   "name": "python3"
  },
  "language_info": {
   "codemirror_mode": {
    "name": "ipython",
    "version": 3
   },
   "file_extension": ".py",
   "mimetype": "text/x-python",
   "name": "python",
   "nbconvert_exporter": "python",
   "pygments_lexer": "ipython3",
   "version": "3.11.4"
  },
  "orig_nbformat": 4
 },
 "nbformat": 4,
 "nbformat_minor": 2
}
