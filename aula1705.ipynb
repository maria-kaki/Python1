{
 "cells": [
  {
   "attachments": {},
   "cell_type": "markdown",
   "metadata": {},
   "source": [
    "# Exercício 1\n",
    "Crie uma função para contar até n."
   ]
  },
  {
   "cell_type": "code",
   "execution_count": 15,
   "metadata": {},
   "outputs": [
    {
     "name": "stdout",
     "output_type": "stream",
     "text": [
      "0\n",
      "1\n",
      "2\n",
      "3\n",
      "4\n"
     ]
    }
   ],
   "source": [
    "def contar(n):\n",
    "    i=0\n",
    "    while i<=n:\n",
    "        print (i)\n",
    "        i+=1\n",
    "        \n",
    "numero = int(input(\"Digite um número.\"))\n",
    "contar(numero)"
   ]
  },
  {
   "attachments": {},
   "cell_type": "markdown",
   "metadata": {},
   "source": [
    "# Exercício 2\n",
    "Crie uma função para verificar cores de uma lista_cores = ['azul','verde','amarelo']"
   ]
  },
  {
   "cell_type": "code",
   "execution_count": 17,
   "metadata": {},
   "outputs": [
    {
     "name": "stdout",
     "output_type": "stream",
     "text": [
      "azul\n",
      "verde\n",
      "amarelo\n"
     ]
    }
   ],
   "source": [
    "def cores():\n",
    "    lista_cores = ['azul','verde','amarelo']\n",
    "    for i in lista_cores:\n",
    "        print(i)\n",
    "\n",
    "cores()\n"
   ]
  },
  {
   "attachments": {},
   "cell_type": "markdown",
   "metadata": {},
   "source": [
    "# Exercício 3\n",
    "Crie uma função para simular uma calculadora de despesas levando em consideração a lista_mes = ['janeiro','fevereiro','março']"
   ]
  },
  {
   "cell_type": "code",
   "execution_count": 22,
   "metadata": {},
   "outputs": [
    {
     "name": "stdout",
     "output_type": "stream",
     "text": [
      "60.0\n"
     ]
    }
   ],
   "source": [
    "def total_despesas(meses):\n",
    "    resultado = 0\n",
    "    for mes in meses:\n",
    "        despesa = float(input(f\"Insira a despesa o mês de {mes}\"))\n",
    "        resultado+= despesa\n",
    "    print(f\"{resultado}\")\n",
    "\n",
    "lista_mes = ['janeiro','fevereiro','marco']\n",
    "total_despesas(lista_mes)"
   ]
  },
  {
   "attachments": {},
   "cell_type": "markdown",
   "metadata": {},
   "source": [
    "# Exercício 4\n",
    "Crie uma função para monitorar a temperatura solicitando valores de temperatura para o usuário até o mesmo digitar -999. Depois disso, retorne o valor mínimo, máximo, médio e mediano da temperatura."
   ]
  },
  {
   "cell_type": "code",
   "execution_count": 24,
   "metadata": {},
   "outputs": [
    {
     "name": "stdout",
     "output_type": "stream",
     "text": [
      "Valor mínimo:  20\n",
      "Valor máximo:  50\n",
      "Valor da média:  33.333333333333336\n"
     ]
    }
   ],
   "source": [
    "import statistics\n",
    "def monitor_temperatura():\n",
    "    temperaturas = []\n",
    "    while True:\n",
    "        temperatura = int(input(\"Digite um valor de temperatura\"))\n",
    "        if temperatura == -999:\n",
    "            break\n",
    "        temperaturas.append(temperatura)\n",
    "\n",
    "    print(\"Valor mínimo: \", min(temperaturas))\n",
    "    print(\"Valor máximo: \", max(temperaturas))\n",
    "    print(\"Valor da média: \", sum(temperaturas)/len(temperaturas))\n",
    "    print(statistics.median(temperaturas))\n",
    "\n",
    "monitor_temperatura()"
   ]
  }
 ],
 "metadata": {
  "kernelspec": {
   "display_name": "Python 3",
   "language": "python",
   "name": "python3"
  },
  "language_info": {
   "codemirror_mode": {
    "name": "ipython",
    "version": 3
   },
   "file_extension": ".py",
   "mimetype": "text/x-python",
   "name": "python",
   "nbconvert_exporter": "python",
   "pygments_lexer": "ipython3",
   "version": "3.11.4"
  },
  "orig_nbformat": 4
 },
 "nbformat": 4,
 "nbformat_minor": 2
}
