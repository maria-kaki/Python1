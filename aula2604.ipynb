{
 "cells": [
  {
   "cell_type": "code",
   "execution_count": 1,
   "metadata": {},
   "outputs": [
    {
     "name": "stdout",
     "output_type": "stream",
     "text": [
      "1\n",
      "2\n",
      "3\n",
      "4\n"
     ]
    }
   ],
   "source": [
    "lista_numerica = [1,2,3,4]\n",
    "\n",
    "for i in lista_numerica:\n",
    "    print(i)"
   ]
  },
  {
   "cell_type": "code",
   "execution_count": 2,
   "metadata": {},
   "outputs": [
    {
     "name": "stdout",
     "output_type": "stream",
     "text": [
      "a\n",
      "b\n",
      "c\n",
      "d\n"
     ]
    }
   ],
   "source": [
    "lista_letras = [\"a\",\"b\",\"c\",\"d\"]\n",
    "\n",
    "for i in lista_letras:\n",
    "    print(i)"
   ]
  },
  {
   "cell_type": "code",
   "execution_count": 4,
   "metadata": {},
   "outputs": [
    {
     "name": "stdout",
     "output_type": "stream",
     "text": [
      "a\n",
      "b\n",
      "c\n"
     ]
    }
   ],
   "source": [
    "lista_letras = [\"a\",\"b\",\"c\",\"d\"]\n",
    "\n",
    "for i in lista_letras:\n",
    "    print(i)\n",
    "    if i == \"c\":\n",
    "        break"
   ]
  },
  {
   "cell_type": "code",
   "execution_count": 3,
   "metadata": {},
   "outputs": [
    {
     "name": "stdout",
     "output_type": "stream",
     "text": [
      "15\n"
     ]
    }
   ],
   "source": [
    "soma = 0\n",
    "lista = [1,2,3,4,5]\n",
    "for i in range(1,6):\n",
    "    soma += i\n",
    "print(soma)"
   ]
  },
  {
   "cell_type": "code",
   "execution_count": 6,
   "metadata": {},
   "outputs": [
    {
     "data": {
      "text/plain": [
       "[10, 20, 30, 40, 50]"
      ]
     },
     "execution_count": 6,
     "metadata": {},
     "output_type": "execute_result"
    }
   ],
   "source": [
    "lista_original = [1,2,3,4,5]\n",
    "nova_lista=[]\n",
    "\n",
    "for k in lista_original:\n",
    "    nova_lista.append(k*10)\n",
    "nova_lista"
   ]
  },
  {
   "cell_type": "code",
   "execution_count": 1,
   "metadata": {},
   "outputs": [
    {
     "name": "stdout",
     "output_type": "stream",
     "text": [
      "maria\n",
      "clara\n",
      "linda\n",
      "gabriel\n",
      "lindo\n",
      "de\n",
      "mais\n",
      "gostoso\n",
      "lindo\n"
     ]
    }
   ],
   "source": [
    "#crie um programa para solicitar nomes e inserir os respectivo nomes em uma lista.\n",
    "lista_nomes = []\n",
    "while True:\n",
    "    nome = input('Digite um nome para adicionar na lista(Digite \"pare\" para parar):')\n",
    "    if nome == \"pare\":\n",
    "        break\n",
    "    else:\n",
    "        lista_nomes.append(nome)\n",
    "for i in lista_nomes:\n",
    "    print(i)\n"
   ]
  },
  {
   "cell_type": "code",
   "execution_count": 4,
   "metadata": {},
   "outputs": [
    {
     "data": {
      "text/plain": [
       "1"
      ]
     },
     "execution_count": 4,
     "metadata": {},
     "output_type": "execute_result"
    }
   ],
   "source": [
    "lista_letras = [\"a\",\"b\",\"c\",\"d\"]\n",
    "lista_original = [1,2,3,4,5]\n",
    "\n",
    "lista_letras.append(lista_original)\n",
    "# lista_letras[4][0]"
   ]
  },
  {
   "cell_type": "code",
   "execution_count": 12,
   "metadata": {},
   "outputs": [
    {
     "name": "stdout",
     "output_type": "stream",
     "text": [
      "pythonbanco\n"
     ]
    }
   ],
   "source": [
    "j= \"\"\n",
    "palavras = [\"python\", \"banco\"]\n",
    "for i in palavras:\n",
    "    for k in i:\n",
    "        j +=k\n",
    "print(j)"
   ]
  },
  {
   "cell_type": "code",
   "execution_count": 13,
   "metadata": {},
   "outputs": [
    {
     "name": "stdout",
     "output_type": "stream",
     "text": [
      "1 2 3 4 2 4 6 8 3 6 9 12 4 8 12 16 "
     ]
    }
   ],
   "source": [
    "for i in range(1, 5):\n",
    "    for k in range(1, 5):\n",
    "        print(i*k, end = \" \")"
   ]
  },
  {
   "cell_type": "code",
   "execution_count": 14,
   "metadata": {},
   "outputs": [
    {
     "name": "stdout",
     "output_type": "stream",
     "text": [
      "4\n",
      "8\n",
      "12\n",
      "16\n",
      "20\n",
      "24\n",
      "28\n",
      "32\n",
      "36\n",
      "40\n"
     ]
    }
   ],
   "source": [
    "#cire um programa que simule uma tabuada apenas de multiplicação\n",
    "numero = int(input(\"Digite o numero que você quer ver a tabuada\"))\n",
    "for i in range(1,11):\n",
    "    print(numero *i)\n"
   ]
  },
  {
   "cell_type": "code",
   "execution_count": 5,
   "metadata": {},
   "outputs": [
    {
     "name": "stdout",
     "output_type": "stream",
     "text": [
      "[2, 4, 6, 8, 10, 12, 14, 16, 18, 20]\n"
     ]
    }
   ],
   "source": [
    "#cire um programa que simule uma tabuada apenas demultiplicação e insira em uma lista chamada lista_mult\n",
    "numero = int(input(\"Digite o numero que você quer ver a tabuada\"))\n",
    "print([i * numero for i in range(1,11)])\n"
   ]
  },
  {
   "cell_type": "code",
   "execution_count": 25,
   "metadata": {},
   "outputs": [
    {
     "name": "stdout",
     "output_type": "stream",
     "text": [
      "1 1.0 0 2 2 0.5 -1 3 3 0.3333333333333333 -2 4 4 0.25 -3 5 5 0.2 -4 6 6 0.16666666666666666 -5 7 7 0.14285714285714285 -6 8 8 0.125 -7 9 9 0.1111111111111111 -8 10 10 0.1 -9 11 2 2.0 1 3 4 1.0 0 4 6 0.6666666666666666 -1 5 8 0.5 -2 6 10 0.4 -3 7 12 0.3333333333333333 -4 8 14 0.2857142857142857 -5 9 16 0.25 -6 10 18 0.2222222222222222 -7 11 20 0.2 -8 12 3 3.0 2 4 6 1.5 1 5 9 1.0 0 6 12 0.75 -1 7 15 0.6 -2 8 18 0.5 -3 9 21 0.42857142857142855 -4 10 24 0.375 -5 11 27 0.3333333333333333 -6 12 30 0.3 -7 13 4 4.0 3 5 8 2.0 2 6 12 1.3333333333333333 1 7 16 1.0 0 8 20 0.8 -1 9 24 0.6666666666666666 -2 10 28 0.5714285714285714 -3 11 32 0.5 -4 12 36 0.4444444444444444 -5 13 40 0.4 -6 14 5 5.0 4 6 10 2.5 3 7 15 1.6666666666666667 2 8 20 1.25 1 9 25 1.0 0 10 30 0.8333333333333334 -1 11 35 0.7142857142857143 -2 12 40 0.625 -3 13 45 0.5555555555555556 -4 14 50 0.5 -5 15 6 6.0 5 7 12 3.0 4 8 18 2.0 3 9 24 1.5 2 10 30 1.2 1 11 36 1.0 0 12 42 0.8571428571428571 -1 13 48 0.75 -2 14 54 0.6666666666666666 -3 15 60 0.6 -4 16 7 7.0 6 8 14 3.5 5 9 21 2.3333333333333335 4 10 28 1.75 3 11 35 1.4 2 12 42 1.1666666666666667 1 13 49 1.0 0 14 56 0.875 -1 15 63 0.7777777777777778 -2 16 70 0.7 -3 17 8 8.0 7 9 16 4.0 6 10 24 2.6666666666666665 5 11 32 2.0 4 12 40 1.6 3 13 48 1.3333333333333333 2 14 56 1.1428571428571428 1 15 64 1.0 0 16 72 0.8888888888888888 -1 17 80 0.8 -2 18 9 9.0 8 10 18 4.5 7 11 27 3.0 6 12 36 2.25 5 13 45 1.8 4 14 54 1.5 3 15 63 1.2857142857142858 2 16 72 1.125 1 17 81 1.0 0 18 90 0.9 -1 19 10 10.0 9 11 20 5.0 8 12 30 3.3333333333333335 7 13 40 2.5 6 14 50 2.0 5 15 60 1.6666666666666667 4 16 70 1.4285714285714286 3 17 80 1.25 2 18 90 1.1111111111111112 1 19 100 1.0 0 20 "
     ]
    }
   ],
   "source": [
    "#crie um programa que simule operações (soma, subtração, multiplicação e divisão)\n",
    "for i in range(1, 11):\n",
    "    for k in range(1, 11):\n",
    "        print(i*k, end = ' ')     \n",
    "        print(i/k, end = ' ')  \n",
    "        print(i-k, end = ' ') \n",
    "        print(i+k, end = ' ')\n",
    "\n",
    "\n",
    "    \n"
   ]
  },
  {
   "cell_type": "code",
   "execution_count": 6,
   "metadata": {},
   "outputs": [
    {
     "data": {
      "text/plain": [
       "[1.0,\n",
       " 0.09090909090909091,\n",
       " 2.0,\n",
       " 0.18181818181818182,\n",
       " 3.0,\n",
       " 0.2727272727272727,\n",
       " 4.0,\n",
       " 0.36363636363636365,\n",
       " 5.0,\n",
       " 0.45454545454545453,\n",
       " 6.0,\n",
       " 0.5454545454545454,\n",
       " 7.0,\n",
       " 0.6363636363636364,\n",
       " 8.0,\n",
       " 0.7272727272727273,\n",
       " 9.0,\n",
       " 0.8181818181818182,\n",
       " 10.0,\n",
       " 0.9090909090909091]"
      ]
     },
     "execution_count": 6,
     "metadata": {},
     "output_type": "execute_result"
    }
   ],
   "source": [
    "#crie um programa que simule operações (soma, subtração, multiplicação e divisão) e insira quatro listas\n",
    "lista_soma = []\n",
    "lista_sub = []\n",
    "lista_mult = []\n",
    "lista_div = []\n",
    "for i in range(1, 11):\n",
    "    for k in (1, 11):\n",
    "        lista_soma.append(i + k) \n",
    "        lista_sub.append(i - k)  \n",
    "        lista_mult.append(i * k)\n",
    "        lista_div.append(i / k) \n",
    "lista_soma\n",
    "lista_sub\n",
    "lista_mult\n",
    "lista_div"
   ]
  },
  {
   "cell_type": "code",
   "execution_count": 28,
   "metadata": {},
   "outputs": [
    {
     "name": "stdout",
     "output_type": "stream",
     "text": [
      "[6, 8, 10, 12]\n"
     ]
    }
   ],
   "source": [
    "#criar uma terceira lista com a soma dos elementos da lista 1 e lsita 2\n",
    "lista1 = [1,2,3,4]\n",
    "lista2 = [5,6,7,8]\n",
    "lista3= []\n",
    "for k in range(len(lista1)):\n",
    "    lista3.append(lista1[k]+lista2[k])\n",
    "print(lista3)\n"
   ]
  },
  {
   "cell_type": "code",
   "execution_count": 31,
   "metadata": {},
   "outputs": [
    {
     "name": "stdout",
     "output_type": "stream",
     "text": [
      "2 * 1 = 2\n",
      "3 * 1 = 3\n",
      "3 * 2 = 6\n"
     ]
    }
   ],
   "source": [
    "for i in range(1,4):\n",
    "    for k in range(1,4):\n",
    "        if i == k:\n",
    "            break\n",
    "        print(i, \"*\", k,'=' ,i*k)"
   ]
  },
  {
   "cell_type": "code",
   "execution_count": null,
   "metadata": {},
   "outputs": [],
   "source": []
  }
 ],
 "metadata": {
  "kernelspec": {
   "display_name": "Python 3",
   "language": "python",
   "name": "python3"
  },
  "language_info": {
   "codemirror_mode": {
    "name": "ipython",
    "version": 3
   },
   "file_extension": ".py",
   "mimetype": "text/x-python",
   "name": "python",
   "nbconvert_exporter": "python",
   "pygments_lexer": "ipython3",
   "version": "3.11.4"
  },
  "orig_nbformat": 4
 },
 "nbformat": 4,
 "nbformat_minor": 2
}
