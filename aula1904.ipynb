{
 "cells": [
  {
   "cell_type": "code",
   "execution_count": 1,
   "metadata": {},
   "outputs": [
    {
     "name": "stdout",
     "output_type": "stream",
     "text": [
      "h\n",
      "o\n",
      "j\n",
      "e\n",
      " \n",
      "é\n",
      " \n",
      "d\n",
      "i\n",
      "a\n"
     ]
    }
   ],
   "source": [
    "palavra = \"hoje é dia de happy hour\"\n",
    "\n",
    "for k in palavra:\n",
    "    print(k)\n",
    "    if k =='a':\n",
    "        break"
   ]
  },
  {
   "cell_type": "code",
   "execution_count": 2,
   "metadata": {},
   "outputs": [
    {
     "name": "stdout",
     "output_type": "stream",
     "text": [
      "h\n",
      "j\n",
      "e\n",
      " \n",
      "é\n",
      " \n",
      "d\n",
      "i\n",
      "a\n",
      " \n",
      "d\n",
      "e\n",
      " \n",
      "h\n",
      "a\n",
      "p\n",
      "p\n",
      "y\n",
      " \n",
      "h\n",
      "u\n",
      "r\n"
     ]
    }
   ],
   "source": [
    "palavra = \"hoje é dia de happy hour\"\n",
    "\n",
    "for k in palavra:\n",
    "    if k =='o':\n",
    "        continue\n",
    "    print(k)"
   ]
  },
  {
   "cell_type": "code",
   "execution_count": 16,
   "metadata": {},
   "outputs": [
    {
     "name": "stdout",
     "output_type": "stream",
     "text": [
      "['a', ' ', 'm', 'a', 'r', 'i', 'a', ' ', 'é']\n",
      "a\n",
      " \n",
      "m\n",
      "a\n",
      "r\n",
      "i\n",
      "a\n",
      " \n",
      "é\n"
     ]
    }
   ],
   "source": [
    "paragrafo = input(\"Escreva um parágrafo.\")\n",
    "palavra = input(\"Escreva uma palavra para parar/quebrar o parágrafo.\")\n",
    "\n",
    "for k in paragrafo:\n",
    "    print(k)\n",
    "    if k == palavra:\n",
    "        break\n",
    "    "
   ]
  },
  {
   "cell_type": "code",
   "execution_count": 9,
   "metadata": {},
   "outputs": [
    {
     "name": "stdout",
     "output_type": "stream",
     "text": [
      " \n",
      "m\n",
      "r\n",
      "i\n",
      " \n",
      "é\n",
      " \n",
      "i\n",
      "n\n",
      "d\n",
      " \n"
     ]
    }
   ],
   "source": [
    "texto = input(\"Escreva um texto.\")\n",
    "palavra = input(\"Escreva uma palavra para não mostrar no texto.\")\n",
    "frase = \"\"\n",
    "for k in texto:\n",
    "    if k == palavra:\n",
    "        continue\n",
    "    print(k)"
   ]
  }
 ],
 "metadata": {
  "kernelspec": {
   "display_name": "Python 3",
   "language": "python",
   "name": "python3"
  },
  "language_info": {
   "codemirror_mode": {
    "name": "ipython",
    "version": 3
   },
   "file_extension": ".py",
   "mimetype": "text/x-python",
   "name": "python",
   "nbconvert_exporter": "python",
   "pygments_lexer": "ipython3",
   "version": "3.11.4"
  },
  "orig_nbformat": 4
 },
 "nbformat": 4,
 "nbformat_minor": 2
}
