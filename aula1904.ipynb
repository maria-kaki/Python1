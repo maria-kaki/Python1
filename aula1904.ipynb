{
 "cells": [
  {
   "cell_type": "code",
   "execution_count": 1,
   "metadata": {},
   "outputs": [
    {
     "name": "stdout",
     "output_type": "stream",
     "text": [
      "h\n",
      "o\n",
      "j\n",
      "e\n",
      " \n",
      "é\n",
      " \n",
      "d\n",
      "i\n",
      "a\n"
     ]
    }
   ],
   "source": [
    "palavra = \"hoje é dia de happy hour\"\n",
    "\n",
    "for k in palavra:\n",
    "    print(k)\n",
    "    if k =='a':\n",
    "        break"
   ]
  },
  {
   "cell_type": "code",
   "execution_count": 2,
   "metadata": {},
   "outputs": [
    {
     "name": "stdout",
     "output_type": "stream",
     "text": [
      "h\n",
      "j\n",
      "e\n",
      " \n",
      "é\n",
      " \n",
      "d\n",
      "i\n",
      "a\n",
      " \n",
      "d\n",
      "e\n",
      " \n",
      "h\n",
      "a\n",
      "p\n",
      "p\n",
      "y\n",
      " \n",
      "h\n",
      "u\n",
      "r\n"
     ]
    }
   ],
   "source": [
    "palavra = \"hoje é dia de happy hour\"\n",
    "\n",
    "for k in palavra:\n",
    "    if k =='o':\n",
    "        continue\n",
    "    print(k)"
   ]
  },
  {
   "cell_type": "code",
   "execution_count": 1,
   "metadata": {
    "metadata": {}
   },
   "outputs": [
    {
     "name": "stdout",
     "output_type": "stream",
     "text": [
      "a maria é "
     ]
    }
   ],
   "source": [
    "frase = input(\"Escreva uma frase.\").split()\n",
    "palavra = input(\"Escreva uma palavra.\")\n",
    "\n",
    "for k in frase:\n",
    "    if k.lower() in palavra.lower():\n",
    "        break\n",
    "    print(k, end = \" \")\n",
    "    "
   ]
  },
  {
   "cell_type": "code",
   "execution_count": 24,
   "metadata": {},
   "outputs": [
    {
     "name": "stdout",
     "output_type": "stream",
     "text": [
      "maria\n"
     ]
    }
   ],
   "source": [
    "textos = []\n",
    "\n",
    "for i in range(4):\n",
    "    textos.append(input(\"Escreva as palavras.\"))\n",
    "\n",
    "palavra = input(\"Escreva uma palavra para parar/quebrar o texto.\")\n",
    "\n",
    "for k in textos:\n",
    "    if k in palavra:\n",
    "        break\n",
    "    print(k)    "
   ]
  },
  {
   "cell_type": "code",
   "execution_count": 2,
   "metadata": {},
   "outputs": [
    {
     "name": "stdout",
     "output_type": "stream",
     "text": [
      "a\n",
      "maria\n",
      "é\n",
      "linda\n"
     ]
    }
   ],
   "source": [
    "texto = input(\"Escreva um texto.\").split()\n",
    "palavra = input(\"Escreva uma palavra para não mostrar no texto.\")\n",
    "\n",
    "for k in texto:\n",
    "    if k == palavra:\n",
    "        continue\n",
    "    print(k)"
   ]
  },
  {
   "cell_type": "code",
   "execution_count": 25,
   "metadata": {},
   "outputs": [
    {
     "name": "stdout",
     "output_type": "stream",
     "text": [
      "maria\n",
      "lind\n",
      "demais\n"
     ]
    }
   ],
   "source": [
    "textos = []\n",
    "\n",
    "for i in range(4):\n",
    "    paragrafo = input(\"Escreva as palavras.\")\n",
    "    textos.append(paragrafo)\n",
    "\n",
    "palavra = input(\"Escreva uma palavra para tirar do texto.\")\n",
    "\n",
    "for k in textos:\n",
    "    if k in palavra:\n",
    "        continue\n",
    "    print(k)"
   ]
  },
  {
   "cell_type": "code",
   "execution_count": 17,
   "metadata": {},
   "outputs": [
    {
     "name": "stdout",
     "output_type": "stream",
     "text": [
      "A média é  5.0\n",
      "A média é  2.0\n",
      "A média é  4.5\n"
     ]
    }
   ],
   "source": [
    "for i in range(3):\n",
    "    nota1 = float(input(\"Nota 1\"))\n",
    "    nota2 = float(input(\"Nota 2\"))\n",
    "\n",
    "    media = (nota1+nota2)/2\n",
    "\n",
    "    print(\"A média é \",media)\n"
   ]
  },
  {
   "cell_type": "code",
   "execution_count": null,
   "metadata": {},
   "outputs": [],
   "source": [
    "for i in range(4):\n",
    "    nota1 = float(input(\"Insira um nome\"))\n",
    "    nota2 = float(input(\"Insira\"))\n",
    "\n",
    "    media = (nota1+nota2)/2\n",
    "\n",
    "    print(\"A média é \",media)\n"
   ]
  },
  {
   "attachments": {},
   "cell_type": "markdown",
   "metadata": {},
   "source": [
    "Crie um programa para somar os valores de duas listas\n",
    "\n",
    "lista1 = [10,20,30]\n",
    "lista2 = [5,10,15]"
   ]
  },
  {
   "cell_type": "code",
   "execution_count": 28,
   "metadata": {},
   "outputs": [
    {
     "data": {
      "text/plain": [
       "[15, 30, 45]"
      ]
     },
     "execution_count": 28,
     "metadata": {},
     "output_type": "execute_result"
    }
   ],
   "source": [
    "lista1 = [10,20,30]\n",
    "lista2 = [5,10,15]\n",
    "\n",
    "somar = [lista1[i] + lista2[i] for i in range(len(lista1))]\n",
    "somar"
   ]
  }
 ],
 "metadata": {
  "kernelspec": {
   "display_name": "Python 3",
   "language": "python",
   "name": "python3"
  },
  "language_info": {
   "codemirror_mode": {
    "name": "ipython",
    "version": 3
   },
   "file_extension": ".py",
   "mimetype": "text/x-python",
   "name": "python",
   "nbconvert_exporter": "python",
   "pygments_lexer": "ipython3",
   "version": "3.12.1"
  },
  "orig_nbformat": 4
 },
 "nbformat": 4,
 "nbformat_minor": 2
}
