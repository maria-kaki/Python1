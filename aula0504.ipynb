{
 "cells": [
  {
   "attachments": {},
   "cell_type": "markdown",
   "metadata": {},
   "source": [
    "# Sistema de condição por escala"
   ]
  },
  {
   "cell_type": "code",
   "execution_count": 3,
   "metadata": {},
   "outputs": [
    {
     "name": "stdout",
     "output_type": "stream",
     "text": [
      "Você precisa comprar mais R$ 80.0  para ter o desconto de 10%.\n"
     ]
    }
   ],
   "source": [
    "idade = int(input(\"Insira sua idade: \"))\n",
    "total_compra = float(input(\"Insira o valor da sua compra: \"))\n",
    "\n",
    "if idade >=65:\n",
    "    if total_compra >=100:\n",
    "        print(\"Você tem 10% de desconto e o valor da sua compra fica de R$\",total_compra*0.9)\n",
    "    else:\n",
    "        print(\"Você precisa comprar mais R$\",100-total_compra,\" para ter o desconto de 10%.\")\n",
    "else:\n",
    "    print(\"Você não tem idade para ter desconto de 10%.\")"
   ]
  },
  {
   "attachments": {},
   "cell_type": "markdown",
   "metadata": {},
   "source": [
    "Programa que solicita o ano e marca do carro. Se a faixa de idade estiver entre 2013 e 2015, solicite a marca do \n",
    "carro e, caso a marca do carro seja Volvo, print o carro é Volvo foi fabricado entre 2013 e 2015. Caso não seja Volvo\n",
    "\"carro entre os anos de 2013 e 2015. mas não é volvo\" Seu carro está fora da faixa dos anos."
   ]
  },
  {
   "cell_type": "code",
   "execution_count": 5,
   "metadata": {},
   "outputs": [
    {
     "name": "stdout",
     "output_type": "stream",
     "text": [
      "O carro é Volvo foi fabricado entre 2013 e 2015.\n"
     ]
    }
   ],
   "source": [
    "ano = int(input(\"Insira a idade do carro: \"))\n",
    "\n",
    "if 2013 <= ano <=2015:\n",
    "    marca = input(\"Insira a marca do carro: \").lower()\n",
    "    if marca == \"volvo\":\n",
    "        print(\"O carro é Volvo foi fabricado entre 2013 e 2015.\")\n",
    "    else:\n",
    "        print(\"Carro entre os anos de 2013 e 2015, mas não é Volvo.\")\n",
    "else:\n",
    "    print(\"Seu carro está fora da faixa dos anos.\")\n",
    "    \n"
   ]
  },
  {
   "attachments": {},
   "cell_type": "markdown",
   "metadata": {},
   "source": [
    "Verificação de horário do dia e temperatura para sugerir uma atividade\n",
    "6 <= hora < 12h e a temperatura > 20, hora de fazer um caminhada no parque.\n",
    "hora de café da manhã\n",
    "\n",
    "12 <= hora < 18h e a temperatura > 25, Que tal um piquenique!\n",
    "hora de almoçar\n",
    "\n",
    "hora de relaxar em casa."
   ]
  },
  {
   "cell_type": "code",
   "execution_count": 9,
   "metadata": {},
   "outputs": [
    {
     "name": "stdout",
     "output_type": "stream",
     "text": [
      "Hora de fazer uma caminhada no parque.\n"
     ]
    }
   ],
   "source": [
    "hora = float(input(\"Insira a hora: \"))\n",
    "temperatura = float(input(\"Insira a temperatura: \"))\n",
    "\n",
    "if 6 <= hora <=12:\n",
    "    if temperatura >20:\n",
    "        print(\"Hora de fazer uma caminhada no parque.\")\n",
    "    else:\n",
    "        print(\"Hora do café da manhã.\")\n",
    "elif 12< hora <18:\n",
    "    if temperatura > 25:\n",
    "        print(\"Que tal um piquenique.\")\n",
    "    else:\n",
    "        print(\"Hora de almoçar.\")\n",
    "else:\n",
    "    print(\"hora de relaxar em casa\")"
   ]
  },
  {
   "cell_type": "code",
   "execution_count": null,
   "metadata": {},
   "outputs": [],
   "source": [
    "idade = int(input(\"Insira a idade do pedido: \"))\n",
    "cliente = input(\"Que tipo de cliente você é? \").upper()\n",
    "\n",
    "if idade <= 7 :\n",
    "    if cliente == \"VIP\":\n",
    "        print(\"Seu pedido está sendo preparado para entrega expressa!\")\n",
    "    else:\n",
    "        print(\"Seu pedido será entregue em breve.\")\n",
    "elif 7< idade < 14:\n",
    "    if cliente == \"VIP\":\n",
    "        print(\"Seu pedido está em processo de embalagem especial!\")\n",
    "    else:\n",
    "        print(\"Seu pedido está sendo preparado.\")\n",
    "else:\n",
    "    print(\"Seu pedido está a caminho.\")"
   ]
  },
  {
   "cell_type": "code",
   "execution_count": null,
   "metadata": {},
   "outputs": [],
   "source": [
    "usuario = input(\"Insira seu usuário: \").lower()\n",
    "senha = input(\"Senha: \").lower()\n",
    "palavra_de_seguranca = input(\"Insira a palavra de segurança: \").lower()"
   ]
  },
  {
   "cell_type": "code",
   "execution_count": 14,
   "metadata": {},
   "outputs": [
    {
     "name": "stdout",
     "output_type": "stream",
     "text": [
      "O tempo está abaixo da média.\n",
      "A média é de 23.57\n"
     ]
    }
   ],
   "source": [
    "tempo = int(input(\"Insira o tempo: \"))\n",
    "\n",
    "media = (12+15+18+20+25+30+45)/7\n",
    "\n",
    "if tempo < media:\n",
    "    print(\"O tempo está abaixo da média.\")\n",
    "elif tempo>media:\n",
    "    print(\"O tempo está acima da média.\")\n",
    "else:\n",
    "    print(\"O tempo é igual a média.\")\n",
    "\n",
    "print(\"A média é de {:.2f}\".format(media))"
   ]
  },
  {
   "cell_type": "code",
   "execution_count": null,
   "metadata": {},
   "outputs": [],
   "source": [
    "i = 0\n",
    "\n",
    "while i <=5:\n",
    "    print(i)\n",
    "    i+=1"
   ]
  },
  {
   "cell_type": "code",
   "execution_count": 15,
   "metadata": {},
   "outputs": [
    {
     "name": "stdout",
     "output_type": "stream",
     "text": [
      "120\n"
     ]
    }
   ],
   "source": [
    "resultado = 1\n",
    "numero = 0\n",
    "\n",
    "while numero < 5:\n",
    "    numero+=1\n",
    "    resultado*=numero\n",
    "print(resultado)"
   ]
  },
  {
   "cell_type": "code",
   "execution_count": 16,
   "metadata": {},
   "outputs": [
    {
     "name": "stdout",
     "output_type": "stream",
     "text": [
      "9\n",
      "8\n",
      "7\n",
      "6\n",
      "5\n",
      "4\n",
      "3\n",
      "2\n",
      "1\n",
      "0\n"
     ]
    }
   ],
   "source": [
    "contador = 10\n",
    "while contador >0:\n",
    "    contador -=1\n",
    "    print(contador)"
   ]
  },
  {
   "cell_type": "code",
   "execution_count": 23,
   "metadata": {},
   "outputs": [
    {
     "name": "stdout",
     "output_type": "stream",
     "text": [
      "5.0°F - -15.0°C\n",
      "3.0°F - -16.11111111111111°C\n",
      "6.0°F - -14.444444444444445°C\n",
      "6.0°F - -14.444444444444445°C\n",
      "Inseriu 0, parou!\n"
     ]
    }
   ],
   "source": [
    "tempF = float(input(\"Insira a temperatura: \"))\n",
    "tempc = 0\n",
    "while tempF!=0:\n",
    "    tempc = (tempF - 32) * (5 / 9)\n",
    "    print(f\"{tempF}°F - {tempc}°C\")\n",
    "    tempF = float(input(\"Insira a temperatura: \"))\n",
    "print(\"Inseriu 0, parou!\")"
   ]
  },
  {
   "cell_type": "code",
   "execution_count": 24,
   "metadata": {},
   "outputs": [
    {
     "name": "stdout",
     "output_type": "stream",
     "text": [
      "1\n",
      "2\n",
      "3\n",
      "4\n",
      "5\n",
      "6\n",
      "7\n",
      "8\n",
      "9\n",
      "10\n"
     ]
    }
   ],
   "source": [
    "numero = int(input(\"Insira um número: \"))\n",
    "contador = 1\n",
    "while contador <= numero:\n",
    "    print(contador)\n",
    "    contador+=1"
   ]
  },
  {
   "cell_type": "code",
   "execution_count": 31,
   "metadata": {},
   "outputs": [
    {
     "name": "stdout",
     "output_type": "stream",
     "text": [
      "0\n",
      "1\n",
      "2\n",
      "3\n",
      "4\n",
      "5\n",
      "6\n",
      "7\n",
      "8\n",
      "9\n",
      "10\n"
     ]
    }
   ],
   "source": [
    "i=0\n",
    "while i <=10:\n",
    "    print(i)\n",
    "    i+=1"
   ]
  },
  {
   "cell_type": "code",
   "execution_count": 32,
   "metadata": {},
   "outputs": [
    {
     "name": "stdout",
     "output_type": "stream",
     "text": [
      "10\n",
      "9\n",
      "8\n",
      "7\n",
      "6\n",
      "5\n",
      "4\n",
      "3\n",
      "2\n",
      "1\n",
      "0\n"
     ]
    }
   ],
   "source": [
    "i=10\n",
    "while i >= 0:\n",
    "    print(i)\n",
    "    i-=1"
   ]
  },
  {
   "cell_type": "code",
   "execution_count": 33,
   "metadata": {},
   "outputs": [
    {
     "name": "stdout",
     "output_type": "stream",
     "text": [
      "3\n",
      "4\n"
     ]
    }
   ],
   "source": [
    "lista = [1,4,6]\n",
    "lista_letras = ['a','b','c','d']\n",
    "\n",
    "print(len(lista))\n",
    "print(len(lista_letras))"
   ]
  },
  {
   "cell_type": "code",
   "execution_count": 34,
   "metadata": {},
   "outputs": [
    {
     "name": "stdout",
     "output_type": "stream",
     "text": [
      "A quantidade de caracteres é  4\n"
     ]
    }
   ],
   "source": [
    "palavra = input(\"Insira uma palavra ou texto: \")\n",
    "print(\"A quantidade de caracteres é \", len(palavra))"
   ]
  },
  {
   "cell_type": "code",
   "execution_count": 36,
   "metadata": {},
   "outputs": [
    {
     "name": "stdout",
     "output_type": "stream",
     "text": [
      "A letra A aparece  2  vezes na frase.\n"
     ]
    }
   ],
   "source": [
    "frase = input(\"Insira uma frase: \").lower()\n",
    "\n",
    "contagem = 0\n",
    "indice=0\n",
    "\n",
    "while indice < len(frase):\n",
    "    if frase[indice] == 'a':\n",
    "        contagem+=1\n",
    "    indice+=1\n",
    "print(\"A letra A aparece \",contagem,\" vezes na frase.\")"
   ]
  },
  {
   "cell_type": "code",
   "execution_count": 40,
   "metadata": {},
   "outputs": [
    {
     "name": "stdout",
     "output_type": "stream",
     "text": [
      "l\n"
     ]
    }
   ],
   "source": [
    "nome = input(\"Insira seu nome: \")\n",
    "i = len(nome)-1\n",
    "print(nome[i])"
   ]
  },
  {
   "cell_type": "code",
   "execution_count": 28,
   "metadata": {},
   "outputs": [
    {
     "name": "stdout",
     "output_type": "stream",
     "text": [
      "0\n",
      "1\n",
      "2\n",
      "3\n",
      "4\n",
      "5\n",
      "6\n",
      "7\n",
      "8\n",
      "9\n",
      "10\n"
     ]
    }
   ],
   "source": [
    "i=0\n",
    "for i in range (0,11,1):\n",
    "    print(i)"
   ]
  },
  {
   "cell_type": "code",
   "execution_count": 30,
   "metadata": {},
   "outputs": [
    {
     "name": "stdout",
     "output_type": "stream",
     "text": [
      "10\n",
      "9\n",
      "8\n",
      "7\n",
      "6\n",
      "5\n",
      "4\n",
      "3\n",
      "2\n",
      "1\n",
      "0\n"
     ]
    }
   ],
   "source": [
    "i=0\n",
    "for i in range (10,-1,-1):\n",
    "    print(i)"
   ]
  }
 ],
 "metadata": {
  "kernelspec": {
   "display_name": "Python 3",
   "language": "python",
   "name": "python3"
  },
  "language_info": {
   "codemirror_mode": {
    "name": "ipython",
    "version": 3
   },
   "file_extension": ".py",
   "mimetype": "text/x-python",
   "name": "python",
   "nbconvert_exporter": "python",
   "pygments_lexer": "ipython3",
   "version": "3.11.4"
  },
  "orig_nbformat": 4
 },
 "nbformat": 4,
 "nbformat_minor": 2
}
