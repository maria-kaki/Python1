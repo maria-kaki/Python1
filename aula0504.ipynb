{
 "cells": [
  {
   "cell_type": "code",
   "execution_count": 3,
   "metadata": {},
   "outputs": [
    {
     "name": "stdout",
     "output_type": "stream",
     "text": [
      "Você precisa comprar mais R$ 80.0  para ter o desconto de 10%.\n"
     ]
    }
   ],
   "source": [
    "idade = int(input(\"Insira sua idade: \"))\n",
    "total_compra = float(input(\"Insira o valor da sua compra: \"))\n",
    "\n",
    "if idade >=65:\n",
    "    if total_compra >=100:\n",
    "        print(\"Você tem 10% de desconto e o valor da sua compra fica de R$\",total_compra*0.9)\n",
    "    else:\n",
    "        print(\"Você precisa comprar mais R$\",100-total_compra,\" para ter o desconto de 10%.\")\n",
    "else:\n",
    "    print(\"Você não tem idade para ter desconto de 10%.\")"
   ]
  },
  {
   "cell_type": "code",
   "execution_count": null,
   "metadata": {},
   "outputs": [],
   "source": []
  }
 ],
 "metadata": {
  "kernelspec": {
   "display_name": "Python 3",
   "language": "python",
   "name": "python3"
  },
  "language_info": {
   "codemirror_mode": {
    "name": "ipython",
    "version": 3
   },
   "file_extension": ".py",
   "mimetype": "text/x-python",
   "name": "python",
   "nbconvert_exporter": "python",
   "pygments_lexer": "ipython3",
   "version": "3.11.4"
  },
  "orig_nbformat": 4
 },
 "nbformat": 4,
 "nbformat_minor": 2
}
